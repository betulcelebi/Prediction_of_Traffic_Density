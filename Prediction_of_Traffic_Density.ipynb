{
  "nbformat": 4,
  "nbformat_minor": 0,
  "metadata": {
    "colab": {
      "name": "Prediction_of_Traffic_Density.ipynb",
      "provenance": [],
      "private_outputs": true,
      "collapsed_sections": [
        "Av6ZUYEzWkh_"
      ],
      "include_colab_link": true
    },
    "kernelspec": {
      "name": "python3",
      "display_name": "Python 3"
    },
    "accelerator": "TPU"
  },
  "cells": [
    {
      "cell_type": "markdown",
      "metadata": {
        "id": "view-in-github",
        "colab_type": "text"
      },
      "source": [
        "<a href=\"https://colab.research.google.com/github/betulcelebi/Prediction_of_Traffic_Density/blob/master/Prediction_of_Traffic_Density.ipynb\" target=\"_parent\"><img src=\"https://colab.research.google.com/assets/colab-badge.svg\" alt=\"Open In Colab\"/></a>"
      ]
    },
    {
      "cell_type": "markdown",
      "metadata": {
        "id": "pzj3d2pbk5JV",
        "colab_type": "text"
      },
      "source": [
        "### <font color='blue'/> **1. Kütüphanelerin Yüklenmesi**  </font>"
      ]
    },
    {
      "cell_type": "code",
      "metadata": {
        "id": "Uaqitj68k4H7",
        "colab_type": "code",
        "colab": {}
      },
      "source": [
        "pip install pygeohash "
      ],
      "execution_count": null,
      "outputs": []
    },
    {
      "cell_type": "code",
      "metadata": {
        "id": "L3-p-0tgk7-_",
        "colab_type": "code",
        "colab": {}
      },
      "source": [
        "import pandas as pd\n",
        "import numpy as np\n",
        "import pygeohash as pgh \n",
        "import seaborn as sns "
      ],
      "execution_count": null,
      "outputs": []
    },
    {
      "cell_type": "code",
      "metadata": {
        "id": "dteGMFxBk7im",
        "colab_type": "code",
        "colab": {}
      },
      "source": [
        "from google.colab import drive\n",
        "drive.mount('/content/gdrive')\n",
        "import os"
      ],
      "execution_count": null,
      "outputs": []
    },
    {
      "cell_type": "code",
      "metadata": {
        "id": "QxyyX8Hzk7B9",
        "colab_type": "code",
        "colab": {}
      },
      "source": [
        "os.chdir(\"/content/gdrive/My Drive/Colab Notebooks/Data\")"
      ],
      "execution_count": null,
      "outputs": []
    },
    {
      "cell_type": "markdown",
      "metadata": {
        "id": "6qI-10p5iU8k",
        "colab_type": "text"
      },
      "source": [
        "### <font color='blue'/> **2. Verinin Okunması**  </font>"
      ]
    },
    {
      "cell_type": "markdown",
      "metadata": {
        "id": "KZL1W59GmJaf",
        "colab_type": "text"
      },
      "source": [
        "**TKM Duyuru Data seti**"
      ]
    },
    {
      "cell_type": "code",
      "metadata": {
        "id": "Y4OeULivk6Yd",
        "colab_type": "code",
        "colab": {}
      },
      "source": [
        "tkm=pd.read_excel(\"TKM.xlsx\", index_col=0, encoding='utf-8')"
      ],
      "execution_count": null,
      "outputs": []
    },
    {
      "cell_type": "code",
      "metadata": {
        "id": "K21_E2iUmIZ6",
        "colab_type": "code",
        "colab": {}
      },
      "source": [
        "tkm.shape"
      ],
      "execution_count": null,
      "outputs": []
    },
    {
      "cell_type": "code",
      "metadata": {
        "id": "yKiZaSaSnK1W",
        "colab_type": "code",
        "colab": {}
      },
      "source": [
        "tkm.head()"
      ],
      "execution_count": null,
      "outputs": []
    },
    {
      "cell_type": "code",
      "metadata": {
        "id": "ZXW3LGV4mhL0",
        "colab_type": "code",
        "colab": {}
      },
      "source": [
        "df_tkm=tkm.copy()"
      ],
      "execution_count": null,
      "outputs": []
    },
    {
      "cell_type": "code",
      "metadata": {
        "id": "P9dRzG_2mHgz",
        "colab_type": "code",
        "colab": {}
      },
      "source": [
        "df_tkm.drop([\"GEOHASH_CHECK\",\"TRAFIK_DENSITY_Geohash\"], axis=1, inplace=True) "
      ],
      "execution_count": null,
      "outputs": []
    },
    {
      "cell_type": "code",
      "metadata": {
        "id": "JaNfOsfAnSx0",
        "colab_type": "code",
        "colab": {}
      },
      "source": [
        "df_tkm.head()"
      ],
      "execution_count": null,
      "outputs": []
    },
    {
      "cell_type": "code",
      "metadata": {
        "id": "I5QgBWxRnSKu",
        "colab_type": "code",
        "colab": {}
      },
      "source": [
        "df_tkm[\"ANNOUNCE_TYPE\"].value_counts()"
      ],
      "execution_count": null,
      "outputs": []
    },
    {
      "cell_type": "code",
      "metadata": {
        "id": "khwgIW1BdmGw",
        "colab_type": "code",
        "colab": {}
      },
      "source": [
        "df_tkm[df_tkm[\"ANNOUNCE_TYPE\"]==\"HABER\"]"
      ],
      "execution_count": null,
      "outputs": []
    },
    {
      "cell_type": "code",
      "metadata": {
        "id": "zVJSfnfox59E",
        "colab_type": "code",
        "colab": {}
      },
      "source": [
        "df_tkm['COUNTY_NAME'].value_counts()"
      ],
      "execution_count": null,
      "outputs": []
    },
    {
      "cell_type": "markdown",
      "metadata": {
        "id": "RwSJj9DuoM8J",
        "colab_type": "text"
      },
      "source": [
        "**Traffic Density veri seti**"
      ]
    },
    {
      "cell_type": "code",
      "metadata": {
        "id": "5Z3J1sqhnRja",
        "colab_type": "code",
        "colab": {}
      },
      "source": [
        "traffic=pd.read_json(\"TRAFFIC_DENSITY.json\")"
      ],
      "execution_count": null,
      "outputs": []
    },
    {
      "cell_type": "code",
      "metadata": {
        "id": "txtnGvPQnQ-Y",
        "colab_type": "code",
        "colab": {}
      },
      "source": [
        "traffic.shape"
      ],
      "execution_count": null,
      "outputs": []
    },
    {
      "cell_type": "code",
      "metadata": {
        "id": "HcZwbGNInQXL",
        "colab_type": "code",
        "colab": {}
      },
      "source": [
        "traffic.head()"
      ],
      "execution_count": null,
      "outputs": []
    },
    {
      "cell_type": "code",
      "metadata": {
        "id": "cUvatP9r3z1B",
        "colab_type": "code",
        "colab": {}
      },
      "source": [
        "df_traffic=traffic.copy()"
      ],
      "execution_count": null,
      "outputs": []
    },
    {
      "cell_type": "code",
      "metadata": {
        "id": "EBQuYsCoxwzj",
        "colab_type": "code",
        "colab": {}
      },
      "source": [
        "df_traffic['COUNTY_NAME'].value_counts()"
      ],
      "execution_count": null,
      "outputs": []
    },
    {
      "cell_type": "code",
      "metadata": {
        "id": "nJIK62r1kwrZ",
        "colab_type": "code",
        "colab": {}
      },
      "source": [
        "df_traffic.isnull().sum()"
      ],
      "execution_count": null,
      "outputs": []
    },
    {
      "cell_type": "markdown",
      "metadata": {
        "id": "Av6ZUYEzWkh_",
        "colab_type": "text"
      },
      "source": [
        "### <font color='blue'/> **3. Verinin İncelenmesi**  </font>"
      ]
    },
    {
      "cell_type": "markdown",
      "metadata": {
        "id": "_GS6jACcVqz-",
        "colab_type": "text"
      },
      "source": [
        "#### <font color='black'/> **Aynı konumda saat aralıklarına bakıyoruz.** </font> "
      ]
    },
    {
      "cell_type": "code",
      "metadata": {
        "id": "bW_1UVnxnPvI",
        "colab_type": "code",
        "colab": {}
      },
      "source": [
        "df_traffic[df_traffic['GEOHASH6']==\"sxk9u0\"].head(10).sort_values([\"DATE_TIME\"])"
      ],
      "execution_count": null,
      "outputs": []
    },
    {
      "cell_type": "markdown",
      "metadata": {
        "id": "YRcVruP8XKt-",
        "colab_type": "text"
      },
      "source": [
        "#### <font color='black'/> **sxk9u0 konumunun sınırda olduğundan hem Kağıthane hem Beşiktaş olarak verisinin olduğunu farkettik. Bunun gibi olan başka konum var mı kontrol ediyoruz.** </font> "
      ]
    },
    {
      "cell_type": "code",
      "metadata": {
        "id": "IsXKBjGxUTkZ",
        "colab_type": "code",
        "colab": {}
      },
      "source": [
        "df_besiktas=df_traffic[df_traffic['COUNTY_NAME']=='BEŞİKTAŞ'].reset_index()  \n",
        "# reset_index() demeseydim indeksleri karışık bırakıyordu, aşağıda yazdığım for döngüsünde range(len..) kısmında sıkıntı çıkartıyordu.\n",
        "df_besiktas"
      ],
      "execution_count": null,
      "outputs": []
    },
    {
      "cell_type": "code",
      "metadata": {
        "id": "OSfojQmDUWJi",
        "colab_type": "code",
        "colab": {}
      },
      "source": [
        "df_kagithane=df_traffic[df_traffic['COUNTY_NAME']=='KAĞITHANE'].reset_index()\n",
        "df_kagithane"
      ],
      "execution_count": null,
      "outputs": []
    },
    {
      "cell_type": "code",
      "metadata": {
        "id": "8ORSlRo-UYKJ",
        "colab_type": "code",
        "colab": {}
      },
      "source": [
        "l=[]\n",
        "\n",
        "for i in range(len(df_besiktas)):\n",
        "    l.append(df_besiktas['GEOHASH6'][i])  # Beşiktaş'taki geohashleri listeye attım. \n",
        "    \n",
        "s_b=set(l) # Listeyi set'e çevirerek geohashleri bir kez almış oldum. \n",
        "# s_b"
      ],
      "execution_count": null,
      "outputs": []
    },
    {
      "cell_type": "code",
      "metadata": {
        "id": "_lkfq6NMUY-z",
        "colab_type": "code",
        "colab": {}
      },
      "source": [
        "m=[]\n",
        "\n",
        "for i in range(len(df_kagithane)):\n",
        "    m.append(df_kagithane['GEOHASH6'][i])\n",
        "    \n",
        "s_k=set(m)\n",
        "# s_k"
      ],
      "execution_count": null,
      "outputs": []
    },
    {
      "cell_type": "code",
      "metadata": {
        "id": "MATDgj-mX_D9",
        "colab_type": "code",
        "colab": {}
      },
      "source": [
        "list_besiktas=list(s_b)  # oluşturduğum setleri aşağıda for döngüsüne sokabilmek için tekrar listeye çevirmek durumunda kaldım.\n",
        "list_kagithane=list(s_k)"
      ],
      "execution_count": null,
      "outputs": []
    },
    {
      "cell_type": "code",
      "metadata": {
        "id": "rEnmJGnIYAjs",
        "colab_type": "code",
        "colab": {}
      },
      "source": [
        "p=[]\n",
        "\n",
        "for i in range(len(list_besiktas)):\n",
        "    for j in range(len(list_kagithane)):\n",
        "        if list_besiktas[i]==list_kagithane[j]:  \n",
        "            p.append(list_besiktas[i])\n",
        " # Beşiktaş'ın geohash listesinde bulunan elemanlar Kağıthane'de de bulunuyorsa o elemanları bir listeye ekle dedim.           \n",
        "p"
      ],
      "execution_count": null,
      "outputs": []
    },
    {
      "cell_type": "markdown",
      "metadata": {
        "id": "_u9-MEfFqajX",
        "colab_type": "text"
      },
      "source": [
        "#### <font color='black'/> **\"Trafik yoğunluk\" ve \"tkm duyuru\" verisinde bulunan geohashlerin eşleşme durumlarını ve birbirinden farklı geohashlerini tespit etmek için aşağıdaki kodu yazdık.** </font> "
      ]
    },
    {
      "cell_type": "code",
      "metadata": {
        "id": "W8tr102lqdgD",
        "colab_type": "code",
        "colab": {}
      },
      "source": [
        "traffic_geohash=df_traffic['GEOHASH6']  # Trafik datasındaki geohash sütununu çektim.\n",
        "traffic_geohash"
      ],
      "execution_count": null,
      "outputs": []
    },
    {
      "cell_type": "code",
      "metadata": {
        "id": "9bKszPlGw8VB",
        "colab_type": "code",
        "colab": {}
      },
      "source": [
        "list_traffic=list(traffic_geohash.values)\n",
        "s_traffic=set(list_traffic)"
      ],
      "execution_count": null,
      "outputs": []
    },
    {
      "cell_type": "code",
      "metadata": {
        "id": "JiXd6DJ-vnzA",
        "colab_type": "code",
        "colab": {}
      },
      "source": [
        "len(s_traffic)"
      ],
      "execution_count": null,
      "outputs": []
    },
    {
      "cell_type": "code",
      "metadata": {
        "id": "o6uq2dzFv7Wo",
        "colab_type": "code",
        "colab": {}
      },
      "source": [
        "tkm_geohash=df_tkm['ANNOUNCE_GEOHASH6']     # Tkm datasındaki geohash sütununu çektim.\n",
        "tkm_geohash"
      ],
      "execution_count": null,
      "outputs": []
    },
    {
      "cell_type": "code",
      "metadata": {
        "id": "TTrCq3K3xd3t",
        "colab_type": "code",
        "colab": {}
      },
      "source": [
        "list_tkm=list(tkm_geohash.values)\n",
        "s_tkm=set(list_tkm)"
      ],
      "execution_count": null,
      "outputs": []
    },
    {
      "cell_type": "code",
      "metadata": {
        "id": "pPS78EiKqpfX",
        "colab_type": "code",
        "colab": {}
      },
      "source": [
        "len(s_tkm)"
      ],
      "execution_count": null,
      "outputs": []
    },
    {
      "cell_type": "code",
      "metadata": {
        "id": "4IDSwrs5qpQN",
        "colab_type": "code",
        "colab": {}
      },
      "source": [
        "traffic_unique_list=list(s_traffic)   # oluşturduğum setleri aşağıda for döngüsüne sokabilmek için listeye çevirdim.\n",
        "tkm_unique_list=list(s_tkm)"
      ],
      "execution_count": null,
      "outputs": []
    },
    {
      "cell_type": "code",
      "metadata": {
        "id": "sO7lgN50qtlc",
        "colab_type": "code",
        "colab": {}
      },
      "source": [
        "same_geohash_list=[]\n",
        "\n",
        "for i in range(len(traffic_unique_list)):\n",
        "    for j in range(len(tkm_unique_list)):\n",
        "        if traffic_unique_list[i]==tkm_unique_list[j]: # Hem trafik datasında bulunan hem de tkm datasında bulunan geohashleri listeye ekledim.\n",
        "            same_geohash_list.append(traffic_unique_list[i])\n",
        "            \n",
        "len(same_geohash_list) # İkisinde de olan geohashlerin sayısı 134'müş."
      ],
      "execution_count": null,
      "outputs": []
    },
    {
      "cell_type": "code",
      "metadata": {
        "id": "BMGyOx_fqv9x",
        "colab_type": "code",
        "colab": {}
      },
      "source": [
        "exist_traffic_geohash=traffic_unique_list.copy()\n",
        "for e in same_geohash_list:\n",
        "    exist_traffic_geohash.remove(e)  # trafik datasında olan ama tkm datasında olmayan geohashleri buldum.\n",
        "    \n",
        "len(exist_traffic_geohash) # 152-134=18 "
      ],
      "execution_count": null,
      "outputs": []
    },
    {
      "cell_type": "code",
      "metadata": {
        "id": "pxqVT-_RqtTU",
        "colab_type": "code",
        "colab": {}
      },
      "source": [
        "exist_tkm_geohash=tkm_unique_list.copy()\n",
        "for e in same_geohash_list:\n",
        "    exist_tkm_geohash.remove(e) # tkm datasında olan ama trafik datasında olmayan geohashleri buldum.\n",
        "    \n",
        "len(exist_tkm_geohash)"
      ],
      "execution_count": null,
      "outputs": []
    },
    {
      "cell_type": "markdown",
      "metadata": {
        "id": "8dDi2e0loMVj",
        "colab_type": "text"
      },
      "source": [
        "### <font color='blue'/> **4. Data setlerinin birleştirilmesi** </font>"
      ]
    },
    {
      "cell_type": "markdown",
      "metadata": {
        "id": "XN64JIUisjuN",
        "colab_type": "text"
      },
      "source": [
        "#### <font color='black'/> **Traffic density ve TKM data framelerini birleştirmek için ön işlemlerin yapılması** </font>"
      ]
    },
    {
      "cell_type": "markdown",
      "metadata": {
        "id": "w4KkUun_wwqQ",
        "colab_type": "text"
      },
      "source": [
        "##### <font color='brown'/> **Trafik yoğunluk verileri ile TKM verilerinde sütun isimlerinin düzenlenmesi ve zamana göre sıralanması** </font>"
      ]
    },
    {
      "cell_type": "code",
      "metadata": {
        "id": "n44pJHfLwvH7",
        "colab_type": "code",
        "colab": {}
      },
      "source": [
        "df_traffic.rename(columns={'DATE_TIME':'TIME'}, inplace=True) \n",
        "df_traffic.columns  # Tarihe ve geohash kodlarına göre verileri birleştireceğimiz için sütun isimlerini eşitliyoruz"
      ],
      "execution_count": null,
      "outputs": []
    },
    {
      "cell_type": "code",
      "metadata": {
        "id": "UtethLquwvLr",
        "colab_type": "code",
        "colab": {}
      },
      "source": [
        "df_tkm.rename(columns={'ANNOUNCE_TIME':'TIME','ANNOUNCE_GEOHASH6':'GEOHASH6'}, inplace=True)\n",
        "df_tkm.columns"
      ],
      "execution_count": null,
      "outputs": []
    },
    {
      "cell_type": "code",
      "metadata": {
        "id": "k3-g6rPO04yD",
        "colab_type": "code",
        "colab": {}
      },
      "source": [
        "df_traffic.sort_values(by=['TIME','GEOHASH6'],inplace=True)\n",
        "df_tkm.sort_values(by=['TIME','GEOHASH6'],inplace=True)"
      ],
      "execution_count": null,
      "outputs": []
    },
    {
      "cell_type": "markdown",
      "metadata": {
        "id": "icLuedKpsxXE",
        "colab_type": "text"
      },
      "source": [
        "##### <font color='brown'/> **TKM - TIME sütunu saniyelerin sıfırlanması**  </font>"
      ]
    },
    {
      "cell_type": "markdown",
      "metadata": {
        "id": "fyCNbA-OxNhx",
        "colab_type": "text"
      },
      "source": [
        "TKM veri setinde TIME sutunu: (Yıl /ay /gün) - (saat / dakika / saniye) şeklinde tutuluyor. merge tolerance problemini çözmek için saniyeleri 0 lamak istiyoruz. Bunun için formattan saniyeyi kaldırabilir, aynı şeyi traffic density dataframe'ine de uygulayabiliriz."
      ]
    },
    {
      "cell_type": "code",
      "metadata": {
        "id": "zVQzB_W_vi30",
        "colab_type": "code",
        "colab": {}
      },
      "source": [
        "# bu ne zaman gerekli bak import datetime "
      ],
      "execution_count": null,
      "outputs": []
    },
    {
      "cell_type": "code",
      "metadata": {
        "id": "TPRGwH0YwQeC",
        "colab_type": "code",
        "colab": {}
      },
      "source": [
        "df_tkm['TIME']"
      ],
      "execution_count": null,
      "outputs": []
    },
    {
      "cell_type": "code",
      "metadata": {
        "id": "AV-x-pm0EopV",
        "colab_type": "code",
        "colab": {}
      },
      "source": [
        "df_tkm['TIME'] = pd.to_datetime(df_tkm['TIME'])\n",
        "df_tkm['TIME'] = df_tkm['TIME'].apply(lambda t: t.replace(second=0))"
      ],
      "execution_count": null,
      "outputs": []
    },
    {
      "cell_type": "code",
      "metadata": {
        "id": "5b5iXARZN-3U",
        "colab_type": "code",
        "colab": {}
      },
      "source": [
        "type(df_tkm.loc[1,\"TIME\"])  "
      ],
      "execution_count": null,
      "outputs": []
    },
    {
      "cell_type": "code",
      "metadata": {
        "id": "kV1IoFEFdzeh",
        "colab_type": "code",
        "colab": {}
      },
      "source": [
        "type(df_traffic.loc[1,\"TIME\"])"
      ],
      "execution_count": null,
      "outputs": []
    },
    {
      "cell_type": "code",
      "metadata": {
        "id": "UjZkYWb33EzL",
        "colab_type": "code",
        "colab": {}
      },
      "source": [
        "df_tkm['TIME']"
      ],
      "execution_count": null,
      "outputs": []
    },
    {
      "cell_type": "markdown",
      "metadata": {
        "id": "bZYP4t8ygevC",
        "colab_type": "text"
      },
      "source": [
        "##### <font color='brown'/> **TIME sutunlarını sıraladık.** </font>  "
      ]
    },
    {
      "cell_type": "code",
      "metadata": {
        "id": "mTAPBmJhzX4v",
        "colab_type": "code",
        "colab": {}
      },
      "source": [
        "df_traffic.sort_values(by=['TIME','GEOHASH6'],inplace=True)\n",
        "df_tkm.sort_values(by=['TIME','GEOHASH6'],inplace=True)"
      ],
      "execution_count": null,
      "outputs": []
    },
    {
      "cell_type": "code",
      "metadata": {
        "id": "JgnmdE6e7K1t",
        "colab_type": "code",
        "colab": {}
      },
      "source": [
        "df_traffic.tail()"
      ],
      "execution_count": null,
      "outputs": []
    },
    {
      "cell_type": "code",
      "metadata": {
        "id": "Na63KEBm7WIc",
        "colab_type": "code",
        "colab": {}
      },
      "source": [
        "df_tkm.tail()"
      ],
      "execution_count": null,
      "outputs": []
    },
    {
      "cell_type": "markdown",
      "metadata": {
        "id": "dqgnLg5EaXIf",
        "colab_type": "text"
      },
      "source": [
        "##### <font color='brown'/> **Farklı İki İlçede Aynı Geohashe Düşen Değerlerin Ortalamasının Alınması.** </font> "
      ]
    },
    {
      "cell_type": "code",
      "metadata": {
        "id": "qpHLm2SahNyW",
        "colab_type": "code",
        "colab": {}
      },
      "source": [
        "df_traffic"
      ],
      "execution_count": null,
      "outputs": []
    },
    {
      "cell_type": "code",
      "metadata": {
        "id": "0txuZc84aZPp",
        "colab_type": "code",
        "colab": {}
      },
      "source": [
        "#kesişimde kalan geohashlerin indexlerini filter_1 e atadik. yani istediğimiz indexleri filter 1 tutuyor.\n",
        "intersect_geo=['sxk9sp', 'sxk9sn', 'sxk9u0', 'sxk9u1', 'sxk9sj']\n",
        "filter_1 = df_traffic[\"GEOHASH6\"].isin(intersect_geo)"
      ],
      "execution_count": null,
      "outputs": []
    },
    {
      "cell_type": "code",
      "metadata": {
        "id": "WAVsoFTQ6tkr",
        "colab_type": "code",
        "colab": {}
      },
      "source": [
        "filter_1"
      ],
      "execution_count": null,
      "outputs": []
    },
    {
      "cell_type": "code",
      "metadata": {
        "id": "z1xegZxbab0o",
        "colab_type": "code",
        "colab": {}
      },
      "source": [
        "#traffic yoğunluğu df'sinde, istedigimiz geohashler ile kesişen satirlari  vals  df sine atadik. \n",
        "vals = df_traffic[filter_1].groupby(['TIME', \"GEOHASH6\",\"COUNTY_NAME\"], as_index=False)[['VEHICLE_COUNT','AVG_SPEED']].mean()"
      ],
      "execution_count": null,
      "outputs": []
    },
    {
      "cell_type": "code",
      "metadata": {
        "id": "MDc0bWjyadhY",
        "colab_type": "code",
        "colab": {}
      },
      "source": [
        "vals"
      ],
      "execution_count": null,
      "outputs": []
    },
    {
      "cell_type": "code",
      "metadata": {
        "id": "ncznW_D-hd7q",
        "colab_type": "code",
        "colab": {}
      },
      "source": [
        "df_traffic.drop(df_traffic[filter_1].index, inplace = True)\n",
        "# kesişen satırların hepsini kaldırıyoruz daha sonra ortalamasını aldığımız satırları ekleyeceğiz"
      ],
      "execution_count": null,
      "outputs": []
    },
    {
      "cell_type": "code",
      "metadata": {
        "id": "he2GHvENi2oj",
        "colab_type": "code",
        "colab": {}
      },
      "source": [
        "df_traffic"
      ],
      "execution_count": null,
      "outputs": []
    },
    {
      "cell_type": "code",
      "metadata": {
        "id": "1xKrCt9NaiV2",
        "colab_type": "code",
        "colab": {}
      },
      "source": [
        "vals.replace(regex=['KAĞITHANE'], value='BEŞİKTAŞ',inplace=True)"
      ],
      "execution_count": null,
      "outputs": []
    },
    {
      "cell_type": "code",
      "metadata": {
        "id": "oBZzNOzkai8C",
        "colab_type": "code",
        "colab": {}
      },
      "source": [
        "vals"
      ],
      "execution_count": null,
      "outputs": []
    },
    {
      "cell_type": "code",
      "metadata": {
        "id": "1ymSw8HfamLH",
        "colab_type": "code",
        "colab": {}
      },
      "source": [
        "vals_1 = vals.groupby(['TIME', \"GEOHASH6\",\"COUNTY_NAME\"], as_index=False)[['VEHICLE_COUNT','AVG_SPEED']].mean()"
      ],
      "execution_count": null,
      "outputs": []
    },
    {
      "cell_type": "code",
      "metadata": {
        "id": "NQpuPX1SaobQ",
        "colab_type": "code",
        "colab": {}
      },
      "source": [
        "vals_1"
      ],
      "execution_count": null,
      "outputs": []
    },
    {
      "cell_type": "code",
      "metadata": {
        "id": "c5mLOR7tjBIi",
        "colab_type": "code",
        "colab": {}
      },
      "source": [
        "df_traffic=df_traffic.append(vals_1, sort=False)"
      ],
      "execution_count": null,
      "outputs": []
    },
    {
      "cell_type": "code",
      "metadata": {
        "id": "sY36mRcljDbY",
        "colab_type": "code",
        "colab": {}
      },
      "source": [
        "df_traffic"
      ],
      "execution_count": null,
      "outputs": []
    },
    {
      "cell_type": "code",
      "metadata": {
        "id": "6vVMN-CUVzxI",
        "colab_type": "code",
        "colab": {}
      },
      "source": [
        "df_traffic.sort_values(by=['TIME','GEOHASH6'],inplace=True)"
      ],
      "execution_count": null,
      "outputs": []
    },
    {
      "cell_type": "code",
      "metadata": {
        "id": "t-AGU7DfEL71",
        "colab_type": "code",
        "colab": {}
      },
      "source": [
        "df_traffic"
      ],
      "execution_count": null,
      "outputs": []
    },
    {
      "cell_type": "markdown",
      "metadata": {
        "id": "hdwzBG63jzmM",
        "colab_type": "text"
      },
      "source": [
        "#### <font color='black'/> **Traffic density ve TKM data framelerinin birleştirilmesi** </font>"
      ]
    },
    {
      "cell_type": "code",
      "metadata": {
        "id": "w8XmFnXohOfd",
        "colab_type": "code",
        "colab": {}
      },
      "source": [
        "df_tkm.columns  "
      ],
      "execution_count": null,
      "outputs": []
    },
    {
      "cell_type": "code",
      "metadata": {
        "id": "OzkBwKYEhTnF",
        "colab_type": "code",
        "colab": {}
      },
      "source": [
        "df_traffic.columns"
      ],
      "execution_count": null,
      "outputs": []
    },
    {
      "cell_type": "code",
      "metadata": {
        "id": "ECQzqTQ2yEes",
        "colab_type": "code",
        "colab": {}
      },
      "source": [
        "data=pd.merge_asof(left=df_traffic,right=df_tkm,by=['GEOHASH6'], on='TIME',direction='nearest',tolerance=pd.Timedelta('15minute'))\n",
        "data.head(100)"
      ],
      "execution_count": null,
      "outputs": []
    },
    {
      "cell_type": "code",
      "metadata": {
        "id": "imhxJUydljks",
        "colab_type": "code",
        "colab": {}
      },
      "source": [
        "data.isnull().sum()"
      ],
      "execution_count": null,
      "outputs": []
    },
    {
      "cell_type": "code",
      "metadata": {
        "id": "gn9FmK0ci9LB",
        "colab_type": "code",
        "colab": {}
      },
      "source": [
        "data.tail()"
      ],
      "execution_count": null,
      "outputs": []
    },
    {
      "cell_type": "markdown",
      "metadata": {
        "id": "yqLopnJku8dz",
        "colab_type": "text"
      },
      "source": [
        "### <font color='blue'/> **5. Feature Engineering Yapılması** </font>"
      ]
    },
    {
      "cell_type": "markdown",
      "metadata": {
        "id": "bAGVbYn4p__t",
        "colab_type": "text"
      },
      "source": [
        "#### <font color='black'/> **Merge edilmiş data setinde \"TIME\" columnundan anlamlı feature'lar çıkarılması** </font>"
      ]
    },
    {
      "cell_type": "markdown",
      "metadata": {
        "id": "wv2b1dIXxFd1",
        "colab_type": "text"
      },
      "source": [
        "##### <font color='brown'/> **TIME columnundan başka bilgiler çıkarabilmek için fonksiyon yazdık.**  </font>"
      ]
    },
    {
      "cell_type": "code",
      "metadata": {
        "id": "rGAK7kyVxI2m",
        "colab_type": "code",
        "colab": {}
      },
      "source": [
        "def add_datepart(df, dt_name):\n",
        "# drop=True ekleyip aşağıdaki if'i yazabiliriz sadece True dediğimizde eklesin istiyorsak\n",
        " \n",
        "    dt_column = df[dt_name]\n",
        "    \n",
        "    attr = ['Year', 'Week', 'Day','Hour', 'Minute','Dayofyear','Date',\n",
        "            'Is_month_end', 'Is_month_start','Is_quarter_start','Is_quarter_end', 'Is_year_end', 'Is_year_start']\n",
        "    \n",
        "    for a in attr: \n",
        "        \n",
        "        df[a] = getattr(dt_column.dt, a.lower())\n",
        "        \n",
        "   \n",
        "    #if drop: \n",
        "        #df.drop(dt_name, axis=1, inplace=True)"
      ],
      "execution_count": null,
      "outputs": []
    },
    {
      "cell_type": "code",
      "metadata": {
        "id": "WGrJn1yNxLEh",
        "colab_type": "code",
        "colab": {}
      },
      "source": [
        "add_datepart(data,\"TIME\")"
      ],
      "execution_count": null,
      "outputs": []
    },
    {
      "cell_type": "code",
      "metadata": {
        "id": "2n7p9n0WxJ_8",
        "colab_type": "code",
        "colab": {}
      },
      "source": [
        "data.tail()"
      ],
      "execution_count": null,
      "outputs": []
    },
    {
      "cell_type": "markdown",
      "metadata": {
        "id": "E9_4l9cDkoIM",
        "colab_type": "text"
      },
      "source": [
        "##### <font color='brown'/> **Tarihin haftanın hangi gününe denk geldiği bilgisini ekledik.** </font>"
      ]
    },
    {
      "cell_type": "code",
      "metadata": {
        "id": "fH2OXBv-u1er",
        "colab_type": "code",
        "colab": {}
      },
      "source": [
        "data['DayofWeek'] = data['TIME'].dt.strftime('%A')\n",
        "data.head()"
      ],
      "execution_count": null,
      "outputs": []
    },
    {
      "cell_type": "markdown",
      "metadata": {
        "id": "akyfcAf2v-0G",
        "colab_type": "text"
      },
      "source": [
        "##### <font color='brown'/> **Tarihin yılın hangi ayına denk geldiği bilgisini ekledik.** </font>"
      ]
    },
    {
      "cell_type": "code",
      "metadata": {
        "id": "1Dd90VKJu0vt",
        "colab_type": "code",
        "colab": {}
      },
      "source": [
        "data['Month'] = data['TIME'].dt.strftime('%B')\n",
        "data.tail()"
      ],
      "execution_count": null,
      "outputs": []
    },
    {
      "cell_type": "markdown",
      "metadata": {
        "id": "UA9Qy0pxxNbY",
        "colab_type": "text"
      },
      "source": [
        "##### <font color='brown'/> **Saatin öğleden önce mi sonra mı olduğu bilgisini ekledik.** </font>"
      ]
    },
    {
      "cell_type": "code",
      "metadata": {
        "id": "NtuSa4Y4vx0p",
        "colab_type": "code",
        "colab": {}
      },
      "source": [
        "data['AM/PM'] = data['TIME'].dt.strftime('%p')\n",
        "data.tail()"
      ],
      "execution_count": null,
      "outputs": []
    },
    {
      "cell_type": "markdown",
      "metadata": {
        "id": "VN-Akbop7Ld8",
        "colab_type": "text"
      },
      "source": [
        "##### <font color='brown'/> **Tarihin hafta sonuna denk gelip gelmediği bilgisini ekledik.** </font>"
      ]
    },
    {
      "cell_type": "code",
      "metadata": {
        "id": "LjpDZOK47KgL",
        "colab_type": "code",
        "colab": {}
      },
      "source": [
        "data['is_weekend'] = ((data[\"TIME\"].dt.dayofweek) // 5 == 1).astype(int)\n",
        "data.tail()"
      ],
      "execution_count": null,
      "outputs": []
    },
    {
      "cell_type": "markdown",
      "metadata": {
        "id": "P7SXy4txpUMY",
        "colab_type": "text"
      },
      "source": [
        "##### <font color='brown'/>**İş Saatlerinin Eklenmesi**</font>"
      ]
    },
    {
      "cell_type": "code",
      "metadata": {
        "id": "octFx-l-Hr_H",
        "colab_type": "code",
        "colab": {}
      },
      "source": [
        "#set index işlemi yaparken TIME sütunu gitmesin diye kopyalanan sütun üzerinden işlem yapılacak\n",
        "data[\"copy_TIME\"]=data[\"TIME\"].copy() "
      ],
      "execution_count": null,
      "outputs": []
    },
    {
      "cell_type": "code",
      "metadata": {
        "id": "q3ttc4ACpS6e",
        "colab_type": "code",
        "colab": {}
      },
      "source": [
        "data.set_index('copy_TIME',inplace=True)"
      ],
      "execution_count": null,
      "outputs": []
    },
    {
      "cell_type": "code",
      "metadata": {
        "id": "qy2It1Lvpai0",
        "colab_type": "code",
        "colab": {}
      },
      "source": [
        "rush_morning=data.between_time('06:00:00', '09:00:00')\n",
        "rush_evening=data.between_time('17:00:00', '20:00:00')"
      ],
      "execution_count": null,
      "outputs": []
    },
    {
      "cell_type": "code",
      "metadata": {
        "id": "VTJNsEmvpaC2",
        "colab_type": "code",
        "colab": {}
      },
      "source": [
        "rush_hours_list=list(rush_morning.index.values.tolist())+list(rush_evening.index.values.tolist())"
      ],
      "execution_count": null,
      "outputs": []
    },
    {
      "cell_type": "code",
      "metadata": {
        "id": "YZEzVqyWpx6Q",
        "colab_type": "code",
        "colab": {}
      },
      "source": [
        "data['rush_hours'] = 0          \n",
        "data.loc[data.index.isin(rush_hours_list), 'rush_hours'] = 1 "
      ],
      "execution_count": null,
      "outputs": []
    },
    {
      "cell_type": "code",
      "metadata": {
        "id": "_z11ZUHVp0Lv",
        "colab_type": "code",
        "colab": {}
      },
      "source": [
        "data[data['rush_hours'] == 1] "
      ],
      "execution_count": null,
      "outputs": []
    },
    {
      "cell_type": "code",
      "metadata": {
        "id": "G8f5fuNMsJwq",
        "colab_type": "code",
        "colab": {}
      },
      "source": [
        "data.reset_index(drop=True, inplace=True)"
      ],
      "execution_count": null,
      "outputs": []
    },
    {
      "cell_type": "code",
      "metadata": {
        "id": "yAwEY89j9fPc",
        "colab_type": "code",
        "colab": {}
      },
      "source": [
        "data.head()"
      ],
      "execution_count": null,
      "outputs": []
    },
    {
      "cell_type": "markdown",
      "metadata": {
        "id": "w1XdtkWFsWFz",
        "colab_type": "text"
      },
      "source": [
        "##### <font color='brown'/>**Mevsim Sütunu Eklenmesi**  </font>"
      ]
    },
    {
      "cell_type": "code",
      "metadata": {
        "id": "DK6AB8SCsQrH",
        "colab_type": "code",
        "colab": {}
      },
      "source": [
        "from datetime import datetime"
      ],
      "execution_count": null,
      "outputs": []
    },
    {
      "cell_type": "code",
      "metadata": {
        "id": "LTGnIvtPZW30",
        "colab_type": "code",
        "colab": {}
      },
      "source": [
        "Y=2020\n",
        "\n",
        "seasons = {'Summer':(datetime(Y,6,21), datetime(Y,9,22)),\n",
        "           'Autumn':(datetime(Y,9,23), datetime(Y,12,20)),\n",
        "           'Spring':(datetime(Y,3,21), datetime(Y,6,20))}\n",
        "\n",
        "\n",
        "def get_season(date):\n",
        "    for season,(season_start, season_end) in seasons.items():\n",
        "        if date>=season_start and date<= season_end:\n",
        "            return season\n",
        "    else:\n",
        "        return 'Winter'\n",
        "\n",
        "data['Season']= data['TIME'].map(get_season)"
      ],
      "execution_count": null,
      "outputs": []
    },
    {
      "cell_type": "code",
      "metadata": {
        "id": "HIU4QTwiBfsC",
        "colab_type": "code",
        "colab": {}
      },
      "source": [
        "print(\"When the date is\", data['TIME'].loc[1000], \"and the season is\", data['Season'].loc[1000])\n",
        "\n",
        "print(\"When the date is\", data['TIME'].loc[1050000], \"and the season is\", data['Season'].loc[1050000])\n",
        "\n",
        "print(\"When the date is\", data['TIME'].loc[1050000], \"and the season is\", data['Season'].loc[1050000])\n",
        "\n",
        "print(\"When the date is\", data['TIME'].loc[1552430], \"and the season is\", data['Season'].loc[1552430])"
      ],
      "execution_count": null,
      "outputs": []
    },
    {
      "cell_type": "code",
      "metadata": {
        "id": "fnrdQEQIsp-_",
        "colab_type": "code",
        "colab": {}
      },
      "source": [
        "data.head()"
      ],
      "execution_count": null,
      "outputs": []
    },
    {
      "cell_type": "markdown",
      "metadata": {
        "id": "gsPkfLVJvKfR",
        "colab_type": "text"
      },
      "source": [
        "##### <font color='brown'/>**Resmi Tatil Sütunu Eklenmesi**</font>"
      ]
    },
    {
      "cell_type": "code",
      "metadata": {
        "id": "hmvgwGBekSjF",
        "colab_type": "code",
        "colab": {}
      },
      "source": [
        "df_public_holiday=pd.read_excel('ResmiTatiller.xlsx')"
      ],
      "execution_count": null,
      "outputs": []
    },
    {
      "cell_type": "code",
      "metadata": {
        "id": "jgrK3JEIkV19",
        "colab_type": "code",
        "colab": {}
      },
      "source": [
        "df_public_holiday"
      ],
      "execution_count": null,
      "outputs": []
    },
    {
      "cell_type": "code",
      "metadata": {
        "id": "RAr14oMXvepB",
        "colab_type": "code",
        "colab": {}
      },
      "source": [
        "holidays=df_public_holiday[\"Tarih\"].values.tolist()"
      ],
      "execution_count": null,
      "outputs": []
    },
    {
      "cell_type": "code",
      "metadata": {
        "id": "B2HusQ73vg92",
        "colab_type": "code",
        "colab": {}
      },
      "source": [
        "data['is_holiday']=data['TIME'].dt.date.astype('datetime64').isin(holidays)"
      ],
      "execution_count": null,
      "outputs": []
    },
    {
      "cell_type": "code",
      "metadata": {
        "id": "MGaZ1Yfhvfk7",
        "colab_type": "code",
        "colab": {}
      },
      "source": [
        "data['is_holiday']"
      ],
      "execution_count": null,
      "outputs": []
    },
    {
      "cell_type": "code",
      "metadata": {
        "id": "2zEmVVxCxGBr",
        "colab_type": "code",
        "colab": {}
      },
      "source": [
        "data.head()"
      ],
      "execution_count": null,
      "outputs": []
    },
    {
      "cell_type": "code",
      "metadata": {
        "id": "pVKhSBHlxUZr",
        "colab_type": "code",
        "colab": {}
      },
      "source": [
        "data.tail()"
      ],
      "execution_count": null,
      "outputs": []
    },
    {
      "cell_type": "code",
      "metadata": {
        "id": "lg2W84LkveCm",
        "colab_type": "code",
        "colab": {}
      },
      "source": [
        "data.loc[1570000]"
      ],
      "execution_count": null,
      "outputs": []
    },
    {
      "cell_type": "code",
      "metadata": {
        "id": "jJhMEwQVkXSV",
        "colab_type": "code",
        "colab": {}
      },
      "source": [
        "data.loc[1475800]"
      ],
      "execution_count": null,
      "outputs": []
    },
    {
      "cell_type": "markdown",
      "metadata": {
        "id": "onuKeL2eyu_H",
        "colab_type": "text"
      },
      "source": [
        "##### <font color='brown'/>**is_pandemic sutunu eklenmesi** </font> "
      ]
    },
    {
      "cell_type": "code",
      "metadata": {
        "id": "m9CHz8ilzE65",
        "colab_type": "code",
        "colab": {}
      },
      "source": [
        "data[\"TIME\"]=pd.to_datetime(data[\"TIME\"]) "
      ],
      "execution_count": null,
      "outputs": []
    },
    {
      "cell_type": "code",
      "metadata": {
        "id": "zKDx9LiGzFlh",
        "colab_type": "code",
        "colab": {}
      },
      "source": [
        "pandemic_start_date=\"2020.03.11\"\n",
        "pandemic_end_date=\"2020.06.19\""
      ],
      "execution_count": null,
      "outputs": []
    },
    {
      "cell_type": "code",
      "metadata": {
        "id": "xZj-DrCkzERl",
        "colab_type": "code",
        "colab": {}
      },
      "source": [
        "pandemic_dates=(data[\"TIME\"]>= pandemic_start_date) & (data[\"TIME\"] <= pandemic_end_date)"
      ],
      "execution_count": null,
      "outputs": []
    },
    {
      "cell_type": "code",
      "metadata": {
        "id": "RTRmRf3GzUMj",
        "colab_type": "code",
        "colab": {}
      },
      "source": [
        "pandemic_dates_list=data[pandemic_dates].index.values.tolist()"
      ],
      "execution_count": null,
      "outputs": []
    },
    {
      "cell_type": "code",
      "metadata": {
        "id": "s8qyDgJozS_i",
        "colab_type": "code",
        "colab": {}
      },
      "source": [
        "data['is_pandemic'] = 0          \n",
        "data.loc[data.index.isin(pandemic_dates_list), 'is_pandemic'] = 1 "
      ],
      "execution_count": null,
      "outputs": []
    },
    {
      "cell_type": "code",
      "metadata": {
        "id": "jQIGPTjlzC52",
        "colab_type": "code",
        "colab": {}
      },
      "source": [
        "data[data['is_pandemic'] == 1] "
      ],
      "execution_count": null,
      "outputs": []
    },
    {
      "cell_type": "markdown",
      "metadata": {
        "id": "PMetg0QtNJmQ",
        "colab_type": "text"
      },
      "source": [
        "##### <font color='brown'/>**Okul Sütunu Eklenmesi**</font> "
      ]
    },
    {
      "cell_type": "code",
      "metadata": {
        "id": "Ao4pKeU55BVw",
        "colab_type": "code",
        "colab": {}
      },
      "source": [
        "first_term_start_date=\"2019.09.09\"\n",
        "first_term_end_date=\"2020.01.17\"\n",
        "\n",
        "second_term_start_date=\"2020.02.03\"\n",
        "second_term_end_date=\"2020.03.15\" # pandemiden dolayı 16 Mart itibariyle tatil edilmişti. "
      ],
      "execution_count": null,
      "outputs": []
    },
    {
      "cell_type": "code",
      "metadata": {
        "id": "3QVUJjbg3mJn",
        "colab_type": "code",
        "colab": {}
      },
      "source": [
        "data[\"TIME\"]=pd.to_datetime(data[\"TIME\"]) "
      ],
      "execution_count": null,
      "outputs": []
    },
    {
      "cell_type": "code",
      "metadata": {
        "id": "JINjekvx5E3p",
        "colab_type": "code",
        "colab": {}
      },
      "source": [
        "first_term=(data[\"TIME\"]>= first_term_start_date) & (data[\"TIME\"] <= first_term_end_date)\n",
        "second_term=(data[\"TIME\"]>= second_term_start_date) & (data[\"TIME\"] <= second_term_end_date)"
      ],
      "execution_count": null,
      "outputs": []
    },
    {
      "cell_type": "code",
      "metadata": {
        "colab_type": "code",
        "id": "M_4CPDY8DBQp",
        "colab": {}
      },
      "source": [
        "school_dates_list=list(data[first_term].index.values.tolist())+list(data[second_term].index.values.tolist())"
      ],
      "execution_count": null,
      "outputs": []
    },
    {
      "cell_type": "code",
      "metadata": {
        "id": "O7OGQ5lEC_PP",
        "colab_type": "code",
        "colab": {}
      },
      "source": [
        "data['is_school'] = 0          \n",
        "data.loc[data.index.isin(school_dates_list), 'is_school'] = 1 "
      ],
      "execution_count": null,
      "outputs": []
    },
    {
      "cell_type": "code",
      "metadata": {
        "id": "iUPkPvekC9mj",
        "colab_type": "code",
        "colab": {}
      },
      "source": [
        "data[data['is_school'] == 0]   "
      ],
      "execution_count": null,
      "outputs": []
    },
    {
      "cell_type": "code",
      "metadata": {
        "id": "2iNtj_reBu8z",
        "colab_type": "code",
        "colab": {}
      },
      "source": [
        "data.head()"
      ],
      "execution_count": null,
      "outputs": []
    },
    {
      "cell_type": "markdown",
      "metadata": {
        "id": "xIbPo_4Kt2ux",
        "colab_type": "text"
      },
      "source": [
        "##### <font color='brown'/> **Geohash6 ile Time sütununun birleştirilerek index olarak atanması**</font> "
      ]
    },
    {
      "cell_type": "code",
      "metadata": {
        "id": "REzMUqlkukTN",
        "colab_type": "code",
        "colab": {}
      },
      "source": [
        "data[\"combined\"]=data.apply(lambda x:\"%s_%s\" % (x[\"GEOHASH6\"],x[\"TIME\"]),axis=1)  # %s birleştir ve tek dize yap anlamında."
      ],
      "execution_count": null,
      "outputs": []
    },
    {
      "cell_type": "code",
      "metadata": {
        "id": "ygt30byfuk9P",
        "colab_type": "code",
        "colab": {}
      },
      "source": [
        "data.head()"
      ],
      "execution_count": null,
      "outputs": []
    },
    {
      "cell_type": "code",
      "metadata": {
        "id": "Ebn2CIbqujvW",
        "colab_type": "code",
        "colab": {}
      },
      "source": [
        "data.set_index('combined',inplace=True)"
      ],
      "execution_count": null,
      "outputs": []
    },
    {
      "cell_type": "code",
      "metadata": {
        "id": "yV5Ae6BFu_8O",
        "colab_type": "code",
        "colab": {}
      },
      "source": [
        "data.loc[\"sxk93r_2020-01-06 09:30:00\"]"
      ],
      "execution_count": null,
      "outputs": []
    },
    {
      "cell_type": "code",
      "metadata": {
        "id": "U9bRfuuF1FAE",
        "colab_type": "code",
        "colab": {}
      },
      "source": [
        "data.head()"
      ],
      "execution_count": null,
      "outputs": []
    },
    {
      "cell_type": "markdown",
      "metadata": {
        "id": "jDGnOXREi2Tn",
        "colab_type": "text"
      },
      "source": [
        "#### <font color='green'/>**Dosyanın Bu Halinin Feather ile Kaydedilmesi**  </font> "
      ]
    },
    {
      "cell_type": "code",
      "metadata": {
        "id": "1otX_9AomHwM",
        "colab_type": "code",
        "colab": {}
      },
      "source": [
        "import os"
      ],
      "execution_count": null,
      "outputs": []
    },
    {
      "cell_type": "code",
      "metadata": {
        "id": "jI_IHO4RnB1a",
        "colab_type": "code",
        "colab": {}
      },
      "source": [
        "data=data.reset_index()"
      ],
      "execution_count": null,
      "outputs": []
    },
    {
      "cell_type": "code",
      "metadata": {
        "id": "1fRLKfOamVk6",
        "colab_type": "code",
        "colab": {}
      },
      "source": [
        "os.makedirs('tmp', exist_ok=True) # Don't give error if file is already there\n",
        "\n",
        "data.to_feather('tmp/raw')"
      ],
      "execution_count": null,
      "outputs": []
    },
    {
      "cell_type": "markdown",
      "metadata": {
        "id": "jv09FFKakDQr",
        "colab_type": "text"
      },
      "source": [
        "#### <font color='black'/> **Feature'ların Nan Değerlerinin Doldurulması** </font>"
      ]
    },
    {
      "cell_type": "code",
      "metadata": {
        "id": "EnIfumsXNggF",
        "colab_type": "code",
        "colab": {}
      },
      "source": [
        "raw = pd.read_feather(\"tmp/raw\")"
      ],
      "execution_count": null,
      "outputs": []
    },
    {
      "cell_type": "code",
      "metadata": {
        "id": "q2MElgMCBTlU",
        "colab_type": "code",
        "colab": {}
      },
      "source": [
        "raw.isnull().sum()"
      ],
      "execution_count": null,
      "outputs": []
    },
    {
      "cell_type": "markdown",
      "metadata": {
        "id": "hywED0AnkkUe",
        "colab_type": "text"
      },
      "source": [
        "##### <font color='brown'/>**ANNOUNCE_TYPE sütununda Nan değerlerin \"No Announce\" ile doldurulması**  </font> "
      ]
    },
    {
      "cell_type": "code",
      "metadata": {
        "id": "lkReeA9ERE8w",
        "colab_type": "code",
        "colab": {}
      },
      "source": [
        "raw[\"ANNOUNCE_TYPE\"].fillna(\"No Announce\", inplace = True)"
      ],
      "execution_count": null,
      "outputs": []
    },
    {
      "cell_type": "code",
      "metadata": {
        "id": "6NKIbtwwREZU",
        "colab_type": "code",
        "colab": {}
      },
      "source": [
        "raw[\"ANNOUNCE_TYPE\"].value_counts()"
      ],
      "execution_count": null,
      "outputs": []
    },
    {
      "cell_type": "code",
      "metadata": {
        "id": "SwkYi1HISZKh",
        "colab_type": "code",
        "colab": {}
      },
      "source": [
        "raw.set_index('combined',inplace=True)"
      ],
      "execution_count": null,
      "outputs": []
    },
    {
      "cell_type": "markdown",
      "metadata": {
        "id": "AzVfhvjAogxd",
        "colab_type": "text"
      },
      "source": [
        "#### <font color='black'/> **Modele Girecek Feature'ların Belirlenmesi**</font> "
      ]
    },
    {
      "cell_type": "code",
      "metadata": {
        "id": "AhkL_tdZouF9",
        "colab_type": "code",
        "colab": {}
      },
      "source": [
        "df_a=raw.drop(\"TIME\", axis=1) \n",
        "# time sütunundan zaman bilgileri ile yeni feature lar üretmiştik.\n",
        "# Tıme ı atıyoruz hata veriyor atmazsak. \n",
        "# Asıl data frame'de kalsın diye başka df adıyla kaydettik. "
      ],
      "execution_count": null,
      "outputs": []
    },
    {
      "cell_type": "code",
      "metadata": {
        "id": "htQo1bcHER2n",
        "colab_type": "code",
        "colab": {}
      },
      "source": [
        "df_a.columns"
      ],
      "execution_count": null,
      "outputs": []
    },
    {
      "cell_type": "code",
      "metadata": {
        "id": "jQcFA0ivEb-s",
        "colab_type": "code",
        "colab": {}
      },
      "source": [
        "model_list=['COUNTY_NAME_x', 'AVG_SPEED', 'VEHICLE_COUNT','ANNOUNCE_TYPE', 'DayofWeek', 'Month', 'AM/PM', 'is_weekend',\n",
        "        'Hour', 'Is_month_end',\n",
        "       'Is_month_start', 'Is_quarter_start', 'Is_quarter_end',\n",
        "       'Is_year_start', 'rush_hours', 'Season', 'is_holiday','is_pandemic','is_school']"
      ],
      "execution_count": null,
      "outputs": []
    },
    {
      "cell_type": "code",
      "metadata": {
        "id": "F5lCF3ppGcPa",
        "colab_type": "code",
        "colab": {}
      },
      "source": [
        "df_a = df_a.reindex(columns=model_list)"
      ],
      "execution_count": null,
      "outputs": []
    },
    {
      "cell_type": "code",
      "metadata": {
        "id": "O69QiIFiEg6Z",
        "colab_type": "code",
        "colab": {}
      },
      "source": [
        "len(model_list)"
      ],
      "execution_count": null,
      "outputs": []
    },
    {
      "cell_type": "code",
      "metadata": {
        "id": "tIycNFcmE62S",
        "colab_type": "code",
        "colab": {}
      },
      "source": [
        "df = df_a[model_list]"
      ],
      "execution_count": null,
      "outputs": []
    },
    {
      "cell_type": "code",
      "metadata": {
        "id": "vRCTFDW-Ec8n",
        "colab_type": "code",
        "colab": {}
      },
      "source": [
        "df.head()"
      ],
      "execution_count": null,
      "outputs": []
    },
    {
      "cell_type": "code",
      "metadata": {
        "id": "b1VTKis1PGCF",
        "colab_type": "code",
        "colab": {}
      },
      "source": [
        "df.isna().sum()"
      ],
      "execution_count": null,
      "outputs": []
    },
    {
      "cell_type": "markdown",
      "metadata": {
        "id": "9KWoQ1SppX8C",
        "colab_type": "text"
      },
      "source": [
        "#### <font color='black'/> **Modele Girecek Feature'ların Nümerik Değerlere Çevrilmesi**</font>"
      ]
    },
    {
      "cell_type": "code",
      "metadata": {
        "id": "b1ncyrDsPqrx",
        "colab_type": "code",
        "colab": {}
      },
      "source": [
        "df[\"AM/PM\"]=df[\"AM/PM\"].replace({\"AM\":1,\"PM\":0}) "
      ],
      "execution_count": null,
      "outputs": []
    },
    {
      "cell_type": "code",
      "metadata": {
        "id": "m_llsIgoPqLc",
        "colab_type": "code",
        "colab": {}
      },
      "source": [
        "df.rename(columns={\"AM/PM\": \"is_AM\"}, inplace=True) "
      ],
      "execution_count": null,
      "outputs": []
    },
    {
      "cell_type": "code",
      "metadata": {
        "id": "Mucp3m3QPppv",
        "colab_type": "code",
        "colab": {}
      },
      "source": [
        "df.head()"
      ],
      "execution_count": null,
      "outputs": []
    },
    {
      "cell_type": "code",
      "metadata": {
        "id": "wMbrwrY-PFoL",
        "colab_type": "code",
        "colab": {}
      },
      "source": [
        "boolean_cols = [\"Is_month_end\",\"Is_month_start\",\"Is_quarter_start\",\"Is_quarter_end\",\"Is_year_start\",\"is_holiday\",\"is_pandemic\",\"is_school\"]\n",
        "for boolean_col in boolean_cols:\n",
        "  df[boolean_col] = df[boolean_col].replace({False: 0, True:1})"
      ],
      "execution_count": null,
      "outputs": []
    },
    {
      "cell_type": "code",
      "metadata": {
        "id": "Amc9sqcjOLD0",
        "colab_type": "code",
        "colab": {}
      },
      "source": [
        "df.info()"
      ],
      "execution_count": null,
      "outputs": []
    },
    {
      "cell_type": "markdown",
      "metadata": {
        "id": "Mf7hQgPIpmOZ",
        "colab_type": "text"
      },
      "source": [
        "#### <font color='black'/> **Tüm Feature'lar İçin One-hot Encoding Yapılması**</font>"
      ]
    },
    {
      "cell_type": "code",
      "metadata": {
        "id": "-iPWKEnKQNqc",
        "colab_type": "code",
        "colab": {}
      },
      "source": [
        "pd.get_dummies(df).head()"
      ],
      "execution_count": null,
      "outputs": []
    },
    {
      "cell_type": "code",
      "metadata": {
        "id": "3Seztuc-QM30",
        "colab_type": "code",
        "colab": {}
      },
      "source": [
        "x = pd.get_dummies(df)\n",
        "for col in x.columns:\n",
        "         print(x[col].value_counts())"
      ],
      "execution_count": null,
      "outputs": []
    },
    {
      "cell_type": "markdown",
      "metadata": {
        "id": "jwquHp-Yp5-O",
        "colab_type": "text"
      },
      "source": [
        "#### <font color='green'/>**Dosyanın Bu Halinin Feather ile Kaydedilmesi**  </font> "
      ]
    },
    {
      "cell_type": "code",
      "metadata": {
        "id": "tPyoQ4ZcKQMQ",
        "colab_type": "code",
        "colab": {}
      },
      "source": [
        "x=x.reset_index()"
      ],
      "execution_count": null,
      "outputs": []
    },
    {
      "cell_type": "code",
      "metadata": {
        "id": "HpkDzzgjQMUU",
        "colab_type": "code",
        "colab": {}
      },
      "source": [
        "import os\n",
        "\n",
        "os.makedirs('tmp', exist_ok=True) # Don't give error if file is already there\n",
        "x.to_feather('tmp/one_hot_encoding')"
      ],
      "execution_count": null,
      "outputs": []
    },
    {
      "cell_type": "markdown",
      "metadata": {
        "id": "6T5qN_G0qGuK",
        "colab_type": "text"
      },
      "source": [
        "#### <font color='black'/> **Hedef Değişken Olarak Belirlediğimiz Ortalama Hızın Sınıflandırma Algoritması İçin Düzenlenmesi**</font>"
      ]
    },
    {
      "cell_type": "code",
      "metadata": {
        "id": "7h_x0F_RR-cD",
        "colab_type": "code",
        "colab": {}
      },
      "source": [
        "df_h = pd.read_feather('tmp/one_hot_encoding')"
      ],
      "execution_count": null,
      "outputs": []
    },
    {
      "cell_type": "code",
      "metadata": {
        "id": "J_SzB62gR91V",
        "colab_type": "code",
        "colab": {}
      },
      "source": [
        "df_h.head()"
      ],
      "execution_count": null,
      "outputs": []
    },
    {
      "cell_type": "code",
      "metadata": {
        "id": "LJkC7tLIR9E-",
        "colab_type": "code",
        "colab": {}
      },
      "source": [
        "df_h.set_index('combined',inplace=True)"
      ],
      "execution_count": null,
      "outputs": []
    },
    {
      "cell_type": "code",
      "metadata": {
        "id": "cIpeo0LCh3A5",
        "colab_type": "code",
        "colab": {}
      },
      "source": [
        "df=df_h.copy()"
      ],
      "execution_count": null,
      "outputs": []
    },
    {
      "cell_type": "code",
      "metadata": {
        "id": "vtfLu1DGhP_y",
        "colab_type": "code",
        "colab": {}
      },
      "source": [
        "raw = pd.read_feather(\"tmp/raw\")"
      ],
      "execution_count": null,
      "outputs": []
    },
    {
      "cell_type": "code",
      "metadata": {
        "id": "IauLiANYeBUY",
        "colab_type": "code",
        "colab": {}
      },
      "source": [
        "raw[raw[\"ANNOUNCE_TYPE\"]==\"YOĞUN TRAFIK\"][\"AVG_SPEED\"].median()"
      ],
      "execution_count": null,
      "outputs": []
    },
    {
      "cell_type": "code",
      "metadata": {
        "id": "TiTVY0zgKyK1",
        "colab_type": "code",
        "colab": {}
      },
      "source": [
        "treshold=raw[raw[\"ANNOUNCE_TYPE\"]==\"YOĞUN TRAFIK\"][\"AVG_SPEED\"].median()\n",
        "\n",
        "def is_traffic(speed):\n",
        "\n",
        "    if speed<=treshold:\n",
        "       return 1 \n",
        "    else:\n",
        "       return 0"
      ],
      "execution_count": null,
      "outputs": []
    },
    {
      "cell_type": "code",
      "metadata": {
        "id": "Y45rb5SELITF",
        "colab_type": "code",
        "colab": {}
      },
      "source": [
        "df[\"is_traffic\"]= df['AVG_SPEED'].map(is_traffic)"
      ],
      "execution_count": null,
      "outputs": []
    },
    {
      "cell_type": "code",
      "metadata": {
        "id": "lM562vzaME7f",
        "colab_type": "code",
        "colab": {}
      },
      "source": [
        "df.head()"
      ],
      "execution_count": null,
      "outputs": []
    },
    {
      "cell_type": "markdown",
      "metadata": {
        "id": "MLRB-Fs4qu-q",
        "colab_type": "text"
      },
      "source": [
        "#### <font color='green'/>**Dosyanın Bu Halinin Feather ile Kaydedilmesi**  </font> "
      ]
    },
    {
      "cell_type": "code",
      "metadata": {
        "id": "3zQKohRAd-z9",
        "colab_type": "code",
        "colab": {}
      },
      "source": [
        "df=df.reset_index()"
      ],
      "execution_count": null,
      "outputs": []
    },
    {
      "cell_type": "code",
      "metadata": {
        "id": "kpauAOmriNZa",
        "colab_type": "code",
        "colab": {}
      },
      "source": [
        "import os\n",
        "\n",
        "os.makedirs('tmp', exist_ok=True) \n",
        "df.to_feather('tmp/df_classification')"
      ],
      "execution_count": null,
      "outputs": []
    },
    {
      "cell_type": "markdown",
      "metadata": {
        "id": "aMNLHTQLsWXT",
        "colab_type": "text"
      },
      "source": [
        "### <font color='blue'/> **6. Model Kurma** </font>"
      ]
    },
    {
      "cell_type": "markdown",
      "metadata": {
        "id": "cFkfSxPiPu2g",
        "colab_type": "text"
      },
      "source": [
        "**Kullanılan Algoritmalar**\n",
        "\n",
        "1.   Random Forest\n",
        "2.   XGBoost\n",
        "3.   Logistic Regression"
      ]
    },
    {
      "cell_type": "code",
      "metadata": {
        "id": "xH6E8kFEjcgH",
        "colab_type": "code",
        "colab": {}
      },
      "source": [
        "df_c=pd.read_feather('tmp/df_classification')"
      ],
      "execution_count": null,
      "outputs": []
    },
    {
      "cell_type": "code",
      "metadata": {
        "id": "_PUnZOvSjdQD",
        "colab_type": "code",
        "colab": {}
      },
      "source": [
        "df_c.set_index('combined',inplace=True)"
      ],
      "execution_count": null,
      "outputs": []
    },
    {
      "cell_type": "code",
      "metadata": {
        "id": "XGkleBNKjb14",
        "colab_type": "code",
        "colab": {}
      },
      "source": [
        "df_c.head()"
      ],
      "execution_count": null,
      "outputs": []
    },
    {
      "cell_type": "markdown",
      "metadata": {
        "id": "smdfH6Rb8S_i",
        "colab_type": "text"
      },
      "source": [
        "#### <font color='green'/> **Random Forest** </font>"
      ]
    },
    {
      "cell_type": "code",
      "metadata": {
        "id": "R69Elj9SjXF8",
        "colab_type": "code",
        "colab": {}
      },
      "source": [
        "from sklearn.ensemble import RandomForestClassifier\n",
        "from sklearn.metrics import accuracy_score \n",
        "from sklearn.metrics import confusion_matrix as cm\n",
        "import matplotlib.pyplot as plt"
      ],
      "execution_count": null,
      "outputs": []
    },
    {
      "cell_type": "markdown",
      "metadata": {
        "id": "vpugkgy--vXM",
        "colab_type": "text"
      },
      "source": [
        "##### <font color='brown'/> **Sadece avg_speed'i attım 100.000 veriyle çalıştırdım.** </font> "
      ]
    },
    {
      "cell_type": "code",
      "metadata": {
        "id": "AhoUQ6pQsH7o",
        "colab_type": "code",
        "colab": {}
      },
      "source": [
        "model_list_real=['combined','AVG_SPEED','VEHICLE_COUNT', 'is_AM', 'is_weekend',\n",
        "        'Hour', 'Is_month_end',\n",
        "       'Is_month_start', 'Is_quarter_start', 'Is_quarter_end',\n",
        "       'Is_year_start', 'rush_hours', 'Season', 'is_holiday',\n",
        "       'is_pandemic','is_school',\n",
        "        'COUNTY_NAME_x_BEŞİKTAŞ', 'COUNTY_NAME_x_ESENLER','COUNTY_NAME_x_KAĞITHANE',\n",
        "        'ANNOUNCE_TYPE_ALT YAPI ÇALIŞMASI',\n",
        "       'ANNOUNCE_TYPE_ARAÇ ARIZASI', 'ANNOUNCE_TYPE_ARAÇ YANGINI',\n",
        "       'ANNOUNCE_TYPE_BAKIM-ONARIM ÇALIŞMASI', 'ANNOUNCE_TYPE_HABER',\n",
        "       'ANNOUNCE_TYPE_KAZA BILDIRIMI', 'ANNOUNCE_TYPE_No Announce',\n",
        "       'ANNOUNCE_TYPE_YOLUN TRAFIĞE KAPANMASI', 'ANNOUNCE_TYPE_YOĞUN TRAFIK',\n",
        "       'ANNOUNCE_TYPE_ÇEVRE DÜZENLEMESI','DayofWeek_Friday',\n",
        "       'DayofWeek_Monday', 'DayofWeek_Saturday', 'DayofWeek_Sunday',\n",
        "       'DayofWeek_Thursday', 'DayofWeek_Tuesday', 'DayofWeek_Wednesday',\n",
        "       'Month_April', 'Month_February', 'Month_January', 'Month_June',\n",
        "       'Month_March', 'Month_May', 'Season_Spring', 'Season_Winter','is_traffic'] "
      ],
      "execution_count": null,
      "outputs": []
    },
    {
      "cell_type": "code",
      "metadata": {
        "id": "IXAuCjMzQVA7",
        "colab_type": "code",
        "colab": {}
      },
      "source": [
        "model_list_real1=['VEHICLE_COUNT', 'is_AM', 'is_weekend',\n",
        "        'Hour', 'Is_month_end',\n",
        "       'Is_month_start', 'Is_quarter_start', 'Is_quarter_end',\n",
        "       'Is_year_start', 'rush_hours', 'is_holiday',\n",
        "       'is_pandemic','is_school',\n",
        "        'COUNTY_NAME_x_BEŞİKTAŞ', 'COUNTY_NAME_x_ESENLER','COUNTY_NAME_x_KAĞITHANE',\n",
        "        'ANNOUNCE_TYPE_ALT YAPI ÇALIŞMASI',\n",
        "       'ANNOUNCE_TYPE_ARAÇ ARIZASI', 'ANNOUNCE_TYPE_ARAÇ YANGINI',\n",
        "       'ANNOUNCE_TYPE_BAKIM-ONARIM ÇALIŞMASI', 'ANNOUNCE_TYPE_HABER',\n",
        "       'ANNOUNCE_TYPE_KAZA BILDIRIMI', 'ANNOUNCE_TYPE_No Announce',\n",
        "       'ANNOUNCE_TYPE_YOLUN TRAFIĞE KAPANMASI', 'ANNOUNCE_TYPE_YOĞUN TRAFIK',\n",
        "       'ANNOUNCE_TYPE_ÇEVRE DÜZENLEMESI','DayofWeek_Friday',\n",
        "       'DayofWeek_Monday', 'DayofWeek_Saturday', 'DayofWeek_Sunday',\n",
        "       'DayofWeek_Thursday', 'DayofWeek_Tuesday', 'DayofWeek_Wednesday',\n",
        "       'Month_April', 'Month_February', 'Month_January', 'Month_June',\n",
        "       'Month_March', 'Month_May', 'Season_Spring', 'Season_Winter','is_traffic'] \n",
        "       # model_listten AVG_SPEED'i attım. "
      ],
      "execution_count": null,
      "outputs": []
    },
    {
      "cell_type": "code",
      "metadata": {
        "id": "qGGABUE7t30I",
        "colab_type": "code",
        "colab": {}
      },
      "source": [
        "df_c.head()"
      ],
      "execution_count": null,
      "outputs": []
    },
    {
      "cell_type": "code",
      "metadata": {
        "id": "LRJw6-SlOD-F",
        "colab_type": "code",
        "colab": {}
      },
      "source": [
        "df_c = df_c.reindex(columns=model_list_real1)"
      ],
      "execution_count": null,
      "outputs": []
    },
    {
      "cell_type": "code",
      "metadata": {
        "id": "ilvuZg-_1tpZ",
        "colab_type": "code",
        "colab": {}
      },
      "source": [
        "df=df_c[model_list_real1]"
      ],
      "execution_count": null,
      "outputs": []
    },
    {
      "cell_type": "code",
      "metadata": {
        "id": "fZhBCp01UB1A",
        "colab_type": "code",
        "colab": {}
      },
      "source": [
        "def split_train_test(df,n): \n",
        "    \n",
        "    return df[:n].copy(), df[n:].copy()"
      ],
      "execution_count": null,
      "outputs": []
    },
    {
      "cell_type": "code",
      "metadata": {
        "id": "VFC-pLQHScIC",
        "colab_type": "code",
        "colab": {}
      },
      "source": [
        "n_sample1 = 100000  \n",
        "n_remain1 = len(df)-n_sample1\n",
        "df_sample1, df_remain1 = split_train_test(df, n_sample1) # İlk 100.000'ini almış olduk. \n",
        "\n",
        "df_sample1.shape, df_remain1.shape"
      ],
      "execution_count": null,
      "outputs": []
    },
    {
      "cell_type": "code",
      "metadata": {
        "id": "ZMJmH6R-8KWt",
        "colab_type": "code",
        "colab": {}
      },
      "source": [
        "n_sample1_train = int(len(df_sample1)*(3/5)) \n",
        "n_sample1_test = int(len(df_sample1)-n_sample1_train)\n",
        "\n",
        "df_sample1_train, df_sample1_test = split_train_test(df_sample1, n_sample1_train)\n",
        "\n",
        "x_sample1_train=df_sample1_train.drop('is_traffic', axis=1)\n",
        "y_sample1_train = df_sample1_train[\"is_traffic\"]\n",
        "\n",
        "x_sample1_test=df_sample1_test.drop('is_traffic', axis=1)\n",
        "y_sample1_test = df_sample1_test[\"is_traffic\"]\n",
        "\n",
        "\n",
        "df_sample1_train.shape, df_sample1_test.shape, x_sample1_train.shape, y_sample1_train.shape, x_sample1_test.shape, x_sample1_test.shape"
      ],
      "execution_count": null,
      "outputs": []
    },
    {
      "cell_type": "code",
      "metadata": {
        "id": "nPKNql71qoes",
        "colab_type": "code",
        "colab": {}
      },
      "source": [
        "df.isnull().sum()"
      ],
      "execution_count": null,
      "outputs": []
    },
    {
      "cell_type": "code",
      "metadata": {
        "id": "PBP-COg81E4q",
        "colab_type": "code",
        "colab": {}
      },
      "source": [
        "m1 = RandomForestClassifier(n_jobs=-1) \n",
        "m1.fit(x_sample1_train,y_sample1_train)\n",
        "predictions = m1.predict(x_sample1_test)\n",
        "score = round(accuracy_score(y_sample1_test, predictions), 3)\n",
        "cm1 = cm(y_sample1_test, predictions)\n",
        "sns.heatmap(cm1, annot=True, fmt=\".0f\")\n",
        "plt.xlabel('Predicted Values')\n",
        "plt.ylabel('Actual Values')\n",
        "plt.title('Accuracy Score: {0}'.format(score), size = 15)\n",
        "plt.show()"
      ],
      "execution_count": null,
      "outputs": []
    },
    {
      "cell_type": "markdown",
      "metadata": {
        "id": "Btcgtpem-97e",
        "colab_type": "text"
      },
      "source": [
        "##### <font color='brown'/>**Hem AVG_SPEED'i hem de Vehicle Count'ı attım. 100.000 veriyle çalıştırdım.** </font> "
      ]
    },
    {
      "cell_type": "code",
      "metadata": {
        "id": "33LFq3LNRsPT",
        "colab_type": "code",
        "colab": {}
      },
      "source": [
        "model_list_real2=['is_AM', 'is_weekend',\n",
        "        'Hour', 'Is_month_end',\n",
        "       'Is_month_start', 'Is_quarter_start', 'Is_quarter_end',\n",
        "       'Is_year_start', 'rush_hours', 'is_holiday',\n",
        "       'is_pandemic','is_school',\n",
        "        'COUNTY_NAME_x_BEŞİKTAŞ', 'COUNTY_NAME_x_ESENLER','COUNTY_NAME_x_KAĞITHANE',\n",
        "        'ANNOUNCE_TYPE_ALT YAPI ÇALIŞMASI',\n",
        "       'ANNOUNCE_TYPE_ARAÇ ARIZASI', 'ANNOUNCE_TYPE_ARAÇ YANGINI',\n",
        "       'ANNOUNCE_TYPE_BAKIM-ONARIM ÇALIŞMASI', 'ANNOUNCE_TYPE_HABER',\n",
        "       'ANNOUNCE_TYPE_KAZA BILDIRIMI', 'ANNOUNCE_TYPE_No Announce',\n",
        "       'ANNOUNCE_TYPE_YOLUN TRAFIĞE KAPANMASI', 'ANNOUNCE_TYPE_YOĞUN TRAFIK',\n",
        "       'ANNOUNCE_TYPE_ÇEVRE DÜZENLEMESI','DayofWeek_Friday',\n",
        "       'DayofWeek_Monday', 'DayofWeek_Saturday', 'DayofWeek_Sunday',\n",
        "       'DayofWeek_Thursday', 'DayofWeek_Tuesday', 'DayofWeek_Wednesday',\n",
        "       'Month_April', 'Month_February', 'Month_January', 'Month_June',\n",
        "       'Month_March', 'Month_May', 'Season_Spring', 'Season_Winter','is_traffic'] # AVG_SPEED ve VEHICLE_COUNT'ı attım."
      ],
      "execution_count": null,
      "outputs": []
    },
    {
      "cell_type": "code",
      "metadata": {
        "id": "mZ0SKbkTWioc",
        "colab_type": "code",
        "colab": {}
      },
      "source": [
        "df=df_c[model_list_real2]"
      ],
      "execution_count": null,
      "outputs": []
    },
    {
      "cell_type": "code",
      "metadata": {
        "id": "YoZ7fXr68gBn",
        "colab_type": "code",
        "colab": {}
      },
      "source": [
        "def split_train_test(df,n): \n",
        "    \n",
        "    return df[:n].copy(), df[n:].copy()"
      ],
      "execution_count": null,
      "outputs": []
    },
    {
      "cell_type": "code",
      "metadata": {
        "id": "0jjfI3Ew8ftB",
        "colab_type": "code",
        "colab": {}
      },
      "source": [
        "n_sample2 = 100000  \n",
        "n_remain2 = len(df)-n_sample2\n",
        "df_sample2, df_remain2 = split_train_test(df, n_sample2)\n",
        "\n",
        "df_sample2.shape, df_remain2.shape"
      ],
      "execution_count": null,
      "outputs": []
    },
    {
      "cell_type": "code",
      "metadata": {
        "id": "ui8oJiLk8fYc",
        "colab_type": "code",
        "colab": {}
      },
      "source": [
        "n_sample2_train = int(len(df_sample2)*(3/5)) # test setimin boyutu :len(df2)*(2/5)\n",
        "n_sample2_test = int(len(df_sample2)-n_sample2_train)\n",
        "\n",
        "df_sample2_train, df_sample2_test = split_train_test(df_sample2, n_sample2_train)\n",
        "\n",
        "x_sample2_train=df_sample2_train.drop('is_traffic', axis=1)\n",
        "y_sample2_train = df_sample2_train[\"is_traffic\"]\n",
        "\n",
        "x_sample2_test=df_sample2_test.drop('is_traffic', axis=1)\n",
        "y_sample2_test = df_sample2_test[\"is_traffic\"]\n",
        "\n",
        "\n",
        "df_sample2_train.shape, df_sample2_test.shape, x_sample2_train.shape, y_sample2_train.shape, x_sample2_test.shape, x_sample2_test.shape"
      ],
      "execution_count": null,
      "outputs": []
    },
    {
      "cell_type": "code",
      "metadata": {
        "id": "qMCLYFlrSY1R",
        "colab_type": "code",
        "colab": {}
      },
      "source": [
        "m2 = RandomForestClassifier(n_jobs=-1) \n",
        "m2.fit(x_sample2_train,y_sample2_train)\n",
        "predictions = m2.predict(x_sample2_test)\n",
        "score = round(accuracy_score(y_sample2_test, predictions), 3)\n",
        "cm1 = cm(y_sample2_test, predictions)\n",
        "sns.heatmap(cm1, annot=True, fmt=\".0f\")\n",
        "plt.xlabel('Predicted Values')\n",
        "plt.ylabel('Actual Values')\n",
        "plt.title('Accuracy Score: {0}'.format(score), size = 15)\n",
        "plt.show()"
      ],
      "execution_count": null,
      "outputs": []
    },
    {
      "cell_type": "markdown",
      "metadata": {
        "id": "KULNMB8MlFPG",
        "colab_type": "text"
      },
      "source": [
        "##### <font color='brown'/>**Hem AVG_SPEED'ı hem de VEHICLE_COUNT'ı atıp tüm veride çalıştırıyorum.** </font>"
      ]
    },
    {
      "cell_type": "code",
      "metadata": {
        "id": "hAYY0aWOfTes",
        "colab_type": "code",
        "colab": {}
      },
      "source": [
        "df=df_c[model_list_real2]"
      ],
      "execution_count": null,
      "outputs": []
    },
    {
      "cell_type": "code",
      "metadata": {
        "id": "Bwo2BC_algab",
        "colab_type": "code",
        "colab": {}
      },
      "source": [
        "n_train = int(len(df)*(3/5)) # test setimin boyutu :len(df)*(2/5)\n",
        "n_test = int(len(df)-n_train)\n",
        "\n",
        "df_train, df_test = split_train_test(df, n_train)"
      ],
      "execution_count": null,
      "outputs": []
    },
    {
      "cell_type": "code",
      "metadata": {
        "id": "OOsQUl7klMbA",
        "colab_type": "code",
        "colab": {}
      },
      "source": [
        "x_train = df_train.drop('is_traffic', axis=1)\n",
        "y_train = df_train[\"is_traffic\"]\n",
        "\n",
        "x_test = df_test.drop('is_traffic', axis=1)\n",
        "y_test = df_test[\"is_traffic\"]"
      ],
      "execution_count": null,
      "outputs": []
    },
    {
      "cell_type": "code",
      "metadata": {
        "id": "OjWLPHsx0sHi",
        "colab_type": "code",
        "colab": {}
      },
      "source": [
        "m3 = RandomForestClassifier(n_jobs=-1) \n",
        "m3.fit(x_train,y_train)\n",
        "predictions = m3.predict(x_test)\n",
        "score = round(accuracy_score(y_test, predictions), 3)\n",
        "cm1 = cm(y_test, predictions)\n",
        "sns.heatmap(cm1, annot=True, fmt=\".0f\")\n",
        "plt.xlabel('Predicted Values')\n",
        "plt.ylabel('Actual Values')\n",
        "plt.title('Accuracy Score: {0}'.format(score), size = 15)\n",
        "plt.show()"
      ],
      "execution_count": null,
      "outputs": []
    },
    {
      "cell_type": "markdown",
      "metadata": {
        "id": "DoQHjbeREy04",
        "colab_type": "text"
      },
      "source": [
        "##### <font color='brown'/>**Hem AVG_SPEED'i hem de VEHICLE COUNT'ı atıp tüm veriyle çalıştırdığımız modelin feature importance'ına bakıyoruz.** </font>"
      ]
    },
    {
      "cell_type": "code",
      "metadata": {
        "id": "FVkrVZ-bEycJ",
        "colab_type": "code",
        "colab": {}
      },
      "source": [
        "def rf_feat_importance(m, df):\n",
        "    return pd.DataFrame({'columns':df.columns, 'importance':m.feature_importances_}\n",
        "                       ).sort_values('importance', ascending=False)"
      ],
      "execution_count": null,
      "outputs": []
    },
    {
      "cell_type": "code",
      "metadata": {
        "id": "ZHbDx5jgEyLj",
        "colab_type": "code",
        "colab": {}
      },
      "source": [
        "feature_importance = rf_feat_importance(m3, x_train); "
      ],
      "execution_count": null,
      "outputs": []
    },
    {
      "cell_type": "code",
      "metadata": {
        "id": "cmv0Lk66Ex6D",
        "colab_type": "code",
        "colab": {}
      },
      "source": [
        "feature_importance[:20]"
      ],
      "execution_count": null,
      "outputs": []
    },
    {
      "cell_type": "code",
      "metadata": {
        "id": "QJ0SlIPdExUq",
        "colab_type": "code",
        "colab": {}
      },
      "source": [
        "feature_importance.plot('columns', 'importance', figsize=(10,6), legend=False);"
      ],
      "execution_count": null,
      "outputs": []
    },
    {
      "cell_type": "markdown",
      "metadata": {
        "id": "jkk_7EWqB_-4",
        "colab_type": "text"
      },
      "source": [
        "#### <font color='green'/> **XGBoost** </font>"
      ]
    },
    {
      "cell_type": "code",
      "metadata": {
        "id": "WTOMzd5tifBF",
        "colab_type": "code",
        "colab": {}
      },
      "source": [
        "import xgboost as xgb"
      ],
      "execution_count": null,
      "outputs": []
    },
    {
      "cell_type": "markdown",
      "metadata": {
        "id": "jAq8k4FvurJD",
        "colab_type": "text"
      },
      "source": [
        "##### <font color='brown'/>**Hem AVG_SPEED'i hem de Vehicle Count'ı attım. 100.000 veriyle çalıştırdım.** </font> "
      ]
    },
    {
      "cell_type": "code",
      "metadata": {
        "id": "lUtyNkKYBRp0",
        "colab_type": "code",
        "colab": {}
      },
      "source": [
        "classifier = xgb.XGBClassifier(\n",
        "    n_estimators=100,\n",
        "    reg_lambda=1,\n",
        "    gamma=0,\n",
        "    max_depth=3\n",
        ")\n",
        "\n",
        "classifier.fit(x_sample2_train, y_sample2_train)"
      ],
      "execution_count": null,
      "outputs": []
    },
    {
      "cell_type": "code",
      "metadata": {
        "id": "uAR0-Zw-S1n2",
        "colab_type": "code",
        "colab": {}
      },
      "source": [
        "predictions = classifier.predict(x_sample2_test)\n",
        "score = round(accuracy_score(y_sample2_test, predictions), 3)\n",
        "cm1 = cm(y_sample2_test, predictions)\n",
        "sns.heatmap(cm1, annot=True, fmt=\".0f\")\n",
        "plt.xlabel('Predicted Values')\n",
        "plt.ylabel('Actual Values')\n",
        "plt.title('Accuracy Score: {0}'.format(score), size = 15)\n",
        "plt.show()"
      ],
      "execution_count": null,
      "outputs": []
    },
    {
      "cell_type": "markdown",
      "metadata": {
        "id": "Ooehmusm3QWa",
        "colab_type": "text"
      },
      "source": [
        "##### <font color='brown'/>**XGBOOST algoritmasını tüm veride çalıştırıyoruz.** </font> "
      ]
    },
    {
      "cell_type": "code",
      "metadata": {
        "id": "JjFjEdWOS1F0",
        "colab_type": "code",
        "colab": {}
      },
      "source": [
        "classifier = xgb.XGBClassifier(\n",
        "    n_estimators=100,\n",
        "    reg_lambda=1,\n",
        "    gamma=0,\n",
        "    max_depth=3\n",
        ")\n",
        "\n",
        "classifier.fit(x_train, y_train)"
      ],
      "execution_count": null,
      "outputs": []
    },
    {
      "cell_type": "code",
      "metadata": {
        "id": "BV8RfGyZS0mT",
        "colab_type": "code",
        "colab": {}
      },
      "source": [
        "predictions = classifier.predict(x_test)\n",
        "score = round(accuracy_score(y_test, predictions), 3)\n",
        "cm1 = cm(y_test, predictions)\n",
        "sns.heatmap(cm1, annot=True, fmt=\".0f\")\n",
        "plt.xlabel('Predicted Values')\n",
        "plt.ylabel('Actual Values')\n",
        "plt.title('Accuracy Score: {0}'.format(score), size = 15)\n",
        "plt.show()"
      ],
      "execution_count": null,
      "outputs": []
    },
    {
      "cell_type": "markdown",
      "metadata": {
        "id": "H50o3GGkD5ap",
        "colab_type": "text"
      },
      "source": [
        "#### <font color='green'/> **Logistic Regression**  </font>"
      ]
    },
    {
      "cell_type": "code",
      "metadata": {
        "id": "RpzxYGzrvLk1",
        "colab_type": "code",
        "colab": {}
      },
      "source": [
        "from sklearn.linear_model import LogisticRegression\n",
        "from sklearn import metrics"
      ],
      "execution_count": null,
      "outputs": []
    },
    {
      "cell_type": "markdown",
      "metadata": {
        "id": "Kxrtxj0CvAts",
        "colab_type": "text"
      },
      "source": [
        "##### <font color='brown'/>**Hem AVG_SPEED'i hem de Vehicle Count'ı attım. 100.000 veriyle çalıştırdım.** </font> "
      ]
    },
    {
      "cell_type": "code",
      "metadata": {
        "id": "RpOEfirpvE9j",
        "colab_type": "code",
        "colab": {}
      },
      "source": [
        "logreg = LogisticRegression()\n",
        "logreg.fit(x_sample2_train, y_sample2_train)"
      ],
      "execution_count": null,
      "outputs": []
    },
    {
      "cell_type": "code",
      "metadata": {
        "id": "cqUqOf4pvEpQ",
        "colab_type": "code",
        "colab": {}
      },
      "source": [
        "predictions = logreg.predict(x_sample2_test)\n",
        "score = round(accuracy_score(y_sample2_test, predictions), 3)\n",
        "cm1 = cm(y_sample2_test, predictions)\n",
        "sns.heatmap(cm1, annot=True, fmt=\".0f\")\n",
        "plt.xlabel('Predicted Values')\n",
        "plt.ylabel('Actual Values')\n",
        "plt.title('Accuracy Score: {0}'.format(score), size = 15)\n",
        "plt.show()"
      ],
      "execution_count": null,
      "outputs": []
    },
    {
      "cell_type": "markdown",
      "metadata": {
        "id": "1udOtVcj4kDL",
        "colab_type": "text"
      },
      "source": [
        "##### <font color='brown'/>**Logistic Regression algoritmasını tüm veride çalıştırıyoruz.** </font> "
      ]
    },
    {
      "cell_type": "code",
      "metadata": {
        "id": "mSLl7q3XCPAT",
        "colab_type": "code",
        "colab": {}
      },
      "source": [
        "logreg = LogisticRegression()\n",
        "logreg.fit(x_train, y_train)"
      ],
      "execution_count": null,
      "outputs": []
    },
    {
      "cell_type": "code",
      "metadata": {
        "id": "lBul_MdJCOyF",
        "colab_type": "code",
        "colab": {}
      },
      "source": [
        "predictions = logreg.predict(x_test)\n",
        "score = round(accuracy_score(y_test, predictions), 3)\n",
        "cm1 = cm(y_test, predictions)\n",
        "sns.heatmap(cm1, annot=True, fmt=\".0f\")\n",
        "plt.xlabel('Predicted Values')\n",
        "plt.ylabel('Actual Values')\n",
        "plt.title('Accuracy Score: {0}'.format(score), size = 15)\n",
        "plt.show()"
      ],
      "execution_count": null,
      "outputs": []
    },
    {
      "cell_type": "markdown",
      "metadata": {
        "id": "TdPL368sxFqQ",
        "colab_type": "text"
      },
      "source": [
        "### <font color='blue'/> **7. y değerinin belirlenmesi** </font>"
      ]
    },
    {
      "cell_type": "code",
      "metadata": {
        "id": "fXfdGPb8G4tC",
        "colab_type": "code",
        "colab": {}
      },
      "source": [
        "import seaborn as sns\n",
        "import matplotlib.pyplot as plt"
      ],
      "execution_count": null,
      "outputs": []
    },
    {
      "cell_type": "code",
      "metadata": {
        "id": "PHFU_bnTw_Jl",
        "colab_type": "code",
        "colab": {}
      },
      "source": [
        "plt.style.use('ggplot')\n",
        "plt.figure(figsize=[8,7])\n",
        "sns.distplot(data['AVG_SPEED']);  #ortalama hızın dağılımı(y ekseni : o hızın ne kadar görüldüğünü temsil ediyor)"
      ],
      "execution_count": null,
      "outputs": []
    },
    {
      "cell_type": "code",
      "metadata": {
        "id": "AG_f8KooMGB8",
        "colab_type": "code",
        "colab": {}
      },
      "source": [
        "\n",
        "list = ['Year','Is_year_end'] # verimiz 2020 yılı ve yıl sonu olmadığı için heatmapte boş geliyordu bu featurelar. o yüzden çıkardık\n",
        "x = data.drop(list,axis = 1 ) \n"
      ],
      "execution_count": null,
      "outputs": []
    },
    {
      "cell_type": "code",
      "metadata": {
        "id": "iDp2Gz08MStE",
        "colab_type": "code",
        "colab": {}
      },
      "source": [
        "f, ax = plt.subplots(figsize=(18, 18))\n",
        "sns.heatmap(x.corr(), annot=True,linewidths=.5)  #annot=true her hücreye değerleri yazdırmak için\n",
        "plt.show()\n"
      ],
      "execution_count": null,
      "outputs": []
    },
    {
      "cell_type": "code",
      "metadata": {
        "id": "qOaB-cxCxni3",
        "colab_type": "code",
        "colab": {}
      },
      "source": [
        "#hız ile araç sayısı arasıdaki ilişki\n",
        "plt.figure(figsize=(10,6))\n",
        "plt.scatter(x=data['VEHICLE_COUNT'], y=data['AVG_SPEED'],c=\"#faa307ff\", alpha=0.5)\n",
        "plt.title('Araç Sayısına İlişkin Ortalama Hız', weight='bold', fontsize=15)\n",
        "\n",
        "plt.xlabel('Araç Sayısı', weight='bold', fontsize=12)\n",
        "plt.ylabel('Ortalama Hız', weight='bold', fontsize=12)\n",
        "plt.xticks(weight='bold')\n",
        "plt.yticks(weight='bold')\n",
        "plt.show()\n"
      ],
      "execution_count": null,
      "outputs": []
    },
    {
      "cell_type": "code",
      "metadata": {
        "id": "W54xZbdU46rt",
        "colab_type": "code",
        "colab": {}
      },
      "source": [
        "data.describe()"
      ],
      "execution_count": null,
      "outputs": []
    },
    {
      "cell_type": "code",
      "metadata": {
        "id": "jemU3W6I5Ebc",
        "colab_type": "code",
        "colab": {}
      },
      "source": [
        "data.info()"
      ],
      "execution_count": null,
      "outputs": []
    },
    {
      "cell_type": "code",
      "metadata": {
        "id": "tABkP72HsLWX",
        "colab_type": "code",
        "colab": {}
      },
      "source": [
        "type(data['Date'])"
      ],
      "execution_count": null,
      "outputs": []
    },
    {
      "cell_type": "markdown",
      "metadata": {
        "id": "Cu2TDP0NlyCx",
        "colab_type": "text"
      },
      "source": [
        "### <font color='blue'/> **8. Görselleştirme Çalışması** </font>"
      ]
    },
    {
      "cell_type": "code",
      "metadata": {
        "id": "PUlNhFDAJjHA",
        "colab_type": "code",
        "colab": {}
      },
      "source": [
        "ax=sns.countplot(td['ANNOUNCE_TYPE'],palette=\"RdYlGn\") #veri setindeki tüm bildirimler\n",
        "ax.set_xticklabels(ax.get_xticklabels(), rotation=30, ha=\"right\")\n",
        "plt.tight_layout()\n",
        "plt.show()"
      ],
      "execution_count": null,
      "outputs": []
    },
    {
      "cell_type": "code",
      "metadata": {
        "id": "KqnfZfXxJjhS",
        "colab_type": "code",
        "colab": {}
      },
      "source": [
        "g = sns.catplot(x=\"ANNOUNCE_TYPE\",  col=\"COUNTY_NAME\",  #ilçelere göre bildirimler\n",
        "...                 data=td, kind=\"count\",\n",
        "...                 height=4, aspect=.9,palette=\"RdYlGn\"); #\"YlOrRd\"\n",
        "g.set_xticklabels(rotation=80)"
      ],
      "execution_count": null,
      "outputs": []
    },
    {
      "cell_type": "markdown",
      "metadata": {
        "id": "AGq3tbZQo_Gh",
        "colab_type": "text"
      },
      "source": [
        "#### <font color='green'/> **Trafik Yoğunluk Verisiyle Grafik Çalışmaları** </font>"
      ]
    },
    {
      "cell_type": "code",
      "metadata": {
        "id": "ojPygG1co-sC",
        "colab_type": "code",
        "colab": {}
      },
      "source": [
        "import datetime\n",
        "import pandas as pd\n",
        "import seaborn as sns\n",
        "import matplotlib.pyplot as plt\n",
        "%matplotlib inline\n",
        "#%matplotlib qt\n",
        "# pip install PyQt5"
      ],
      "execution_count": null,
      "outputs": []
    },
    {
      "cell_type": "code",
      "metadata": {
        "id": "upz7sMdkpRZb",
        "colab_type": "code",
        "colab": {}
      },
      "source": [
        "df_traffic=pd.read_json(\"TRAFFIC_DENSITY.json\",encoding = \"UTF-8\")"
      ],
      "execution_count": null,
      "outputs": []
    },
    {
      "cell_type": "code",
      "metadata": {
        "id": "XmPXGV_EpS9u",
        "colab_type": "code",
        "colab": {}
      },
      "source": [
        "df_traffic.head()"
      ],
      "execution_count": null,
      "outputs": []
    },
    {
      "cell_type": "code",
      "metadata": {
        "id": "baREYHqxpVxz",
        "colab_type": "code",
        "colab": {}
      },
      "source": [
        "df_traffic.sort_values(by=['DATE_TIME','GEOHASH6'],inplace=True)"
      ],
      "execution_count": null,
      "outputs": []
    },
    {
      "cell_type": "code",
      "metadata": {
        "id": "wbGmEHumpYFf",
        "colab_type": "code",
        "colab": {}
      },
      "source": [
        "df_traffic.head()"
      ],
      "execution_count": null,
      "outputs": []
    },
    {
      "cell_type": "code",
      "metadata": {
        "id": "bLWaiMynpZiL",
        "colab_type": "code",
        "colab": {}
      },
      "source": [
        "df_traffic[['year','month','day']] = df_traffic.DATE_TIME.apply(lambda x: pd.Series(\n",
        "    x.strftime(\"%Y,%m,%d\").split(\",\"))) # split date into year, month, day"
      ],
      "execution_count": null,
      "outputs": []
    },
    {
      "cell_type": "code",
      "metadata": {
        "id": "UK1sAPUKpcAk",
        "colab_type": "code",
        "colab": {}
      },
      "source": [
        "df_traffic.head()"
      ],
      "execution_count": null,
      "outputs": []
    },
    {
      "cell_type": "code",
      "metadata": {
        "id": "SmYkQ8CcpeaP",
        "colab_type": "code",
        "colab": {}
      },
      "source": [
        "d = df_traffic.groupby(['month']).mean()"
      ],
      "execution_count": null,
      "outputs": []
    },
    {
      "cell_type": "code",
      "metadata": {
        "id": "u-_N9Rc8pgMV",
        "colab_type": "code",
        "colab": {}
      },
      "source": [
        "d.reset_index(inplace=True)\n",
        "d"
      ],
      "execution_count": null,
      "outputs": []
    },
    {
      "cell_type": "code",
      "metadata": {
        "id": "M-W7xzekpmOX",
        "colab_type": "code",
        "colab": {}
      },
      "source": [
        "df = pd.DataFrame(d) \n",
        "  \n",
        "# Declare a list that is to be converted into a column \n",
        "Month = ['Ocak', 'Şubat', 'Mart', 'Nisan', \"Mayıs\", \"Haziran\"] \n",
        "  \n",
        "df['Aylar'] = Month \n",
        " \n",
        "df "
      ],
      "execution_count": null,
      "outputs": []
    },
    {
      "cell_type": "code",
      "metadata": {
        "id": "3ttV69UhpsoL",
        "colab_type": "code",
        "colab": {}
      },
      "source": [
        "sns.distplot(d.AVG_SPEED); #yoğunluk grafiği"
      ],
      "execution_count": null,
      "outputs": []
    },
    {
      "cell_type": "code",
      "metadata": {
        "id": "U8itwrpRpvuN",
        "colab_type": "code",
        "colab": {}
      },
      "source": [
        "from matplotlib import pyplot"
      ],
      "execution_count": null,
      "outputs": []
    },
    {
      "cell_type": "code",
      "metadata": {
        "id": "FaLDmYUepzVd",
        "colab_type": "code",
        "colab": {}
      },
      "source": [
        "pyplot.figure(figsize=(10,5))\n",
        "plt.plot(d.Aylar,d.AVG_SPEED, \"#E85D04\", linewidth=5.0, label='Ortalama Hız')\n",
        "plt.title(\"Aylara Göre Ortalama Araç Hızları\")\n",
        "plt.xlabel(\"Aylar\")\n",
        "plt.legend(loc='lower left')\n",
        "plt.grid(False)\n",
        "plt.ylabel(\"Ortalama Araç Hızları\");"
      ],
      "execution_count": null,
      "outputs": []
    },
    {
      "cell_type": "code",
      "metadata": {
        "id": "Te3mTPG1p1Zn",
        "colab_type": "code",
        "colab": {}
      },
      "source": [
        "pyplot.figure(figsize=(10,5))\n",
        "pyplot.plot(d.Aylar,d.VEHICLE_COUNT,\"#DC2F02\", linewidth=7.0, linestyle=\"--\", label='Araç Sayısı')\n",
        "pyplot.title('Aylara Göre Ortalama Araç Sayısı')\n",
        "plt.legend(loc='lower left')\n",
        "plt.grid(False)\n",
        "pyplot.xlabel('Aylar');\n",
        "plt.ylabel(\"Ortalama Araç Sayıları\");"
      ],
      "execution_count": null,
      "outputs": []
    },
    {
      "cell_type": "code",
      "metadata": {
        "id": "24rxK_hbp3xU",
        "colab_type": "code",
        "colab": {}
      },
      "source": [
        "pyplot.figure(figsize=(10,5))\n",
        "pyplot.plot(d.Aylar,d.VEHICLE_COUNT,\"#DC2F02\", linewidth=7.0, linestyle=\"--\", label='Araç Sayısı')\n",
        "pyplot.title('Aylara Göre Ortalama Araç Sayısı')\n",
        "plt.legend(loc='lower left')\n",
        "plt.grid(False)\n",
        "pyplot.xlabel('Aylar');\n",
        "plt.ylabel(\"Ortalama Araç Sayıları\");"
      ],
      "execution_count": null,
      "outputs": []
    },
    {
      "cell_type": "markdown",
      "metadata": {
        "id": "XWfP2dPKn0gG",
        "colab_type": "text"
      },
      "source": [
        "#### <font color='green'/> **TKM Verisindeki Kooordinat Verisinden Yararlanılarak Harita Görselleştirme Çalışması** </font>"
      ]
    },
    {
      "cell_type": "code",
      "metadata": {
        "id": "2rWCqfNbneai",
        "colab_type": "code",
        "colab": {}
      },
      "source": [
        "import datetime\n",
        "import pandas as pd\n",
        "import seaborn as sns\n",
        "import matplotlib.pyplot as plt\n",
        "from matplotlib import pyplot\n",
        "%matplotlib inline\n",
        "#%matplotlib qt\n",
        "# pip install PyQt5"
      ],
      "execution_count": null,
      "outputs": []
    },
    {
      "cell_type": "code",
      "metadata": {
        "id": "7XCpqDPbnknp",
        "colab_type": "code",
        "colab": {}
      },
      "source": [
        "df_tkm =pd.read_excel(\"TKM.xlsx\",encoding = \"UTF-8\")\n",
        "df_tkm.head()"
      ],
      "execution_count": null,
      "outputs": []
    },
    {
      "cell_type": "code",
      "metadata": {
        "id": "nwSSyQ9dnrUJ",
        "colab_type": "code",
        "colab": {}
      },
      "source": [
        "df_tkm.drop([\"Unnamed: 0\",\"COUNTY_NAME\",\"GEOHASH_CHECK\",\"TRAFIK_DENSITY_Geohash\"], axis=1, inplace=True)  "
      ],
      "execution_count": null,
      "outputs": []
    },
    {
      "cell_type": "code",
      "metadata": {
        "id": "LQu_nKo9ntjd",
        "colab_type": "code",
        "colab": {}
      },
      "source": [
        "df_tkm.head()"
      ],
      "execution_count": null,
      "outputs": []
    },
    {
      "cell_type": "code",
      "metadata": {
        "id": "3W2EUOShnvZC",
        "colab_type": "code",
        "colab": {}
      },
      "source": [
        "df_tkm[['year','month','day']] = df_tkm.ANNOUNCE_TIME.apply(lambda x: pd.Series(\n",
        "    x.strftime(\"%Y,%m,%d\").split(\",\"))) # split date into year, month, day"
      ],
      "execution_count": null,
      "outputs": []
    },
    {
      "cell_type": "code",
      "metadata": {
        "id": "WWUlUTNfnxsS",
        "colab_type": "code",
        "colab": {}
      },
      "source": [
        "df_tkm.head()"
      ],
      "execution_count": null,
      "outputs": []
    },
    {
      "cell_type": "code",
      "metadata": {
        "id": "Ec3ZOm_OoEiT",
        "colab_type": "code",
        "colab": {}
      },
      "source": [
        "!pip install folium \n",
        "#conda install -c conda-forge folium\n",
        "import folium"
      ],
      "execution_count": null,
      "outputs": []
    },
    {
      "cell_type": "code",
      "metadata": {
        "id": "XQgi9uRXoI5Z",
        "colab_type": "code",
        "colab": {}
      },
      "source": [
        "from folium import plugins\n",
        "m = folium.Map(location=[41,29],\n",
        "tiles=\"cartodbpositron\",\n",
        " width=\"%100\",\n",
        "height=\"%100\",\n",
        "zoom_start=10)\n",
        " \n",
        "minimap = plugins.MiniMap()\n",
        "m.add_child(minimap)\n",
        "m"
      ],
      "execution_count": null,
      "outputs": []
    },
    {
      "cell_type": "code",
      "metadata": {
        "id": "SfXs3LknoLPZ",
        "colab_type": "code",
        "colab": {}
      },
      "source": [
        "locations = list(zip(df_tkm.ANNOUNCE_LATITUDE, df_tkm.ANNOUNCE_LONGTITUDE))"
      ],
      "execution_count": null,
      "outputs": []
    },
    {
      "cell_type": "code",
      "metadata": {
        "id": "-_MaFZLVoO4a",
        "colab_type": "code",
        "colab": {}
      },
      "source": [
        "m = folium.Map(location=[41,29],\n",
        "tiles=\"cartodbpositron\",\n",
        " width=\"%100\",\n",
        "height=\"%100\",\n",
        "zoom_start=10)\n",
        "for i in range(len(locations)):\n",
        "    folium.CircleMarker(location=locations[i],radius=1, color='#FF7D40',).add_to(m)\n",
        "m"
      ],
      "execution_count": null,
      "outputs": []
    },
    {
      "cell_type": "code",
      "metadata": {
        "id": "GcxZx-vfoTq1",
        "colab_type": "code",
        "colab": {}
      },
      "source": [
        "# convert to (n, 2) nd-array format for heatmap\n",
        "stationArr = df_tkm[['ANNOUNCE_LATITUDE', 'ANNOUNCE_LONGTITUDE']].as_matrix()\n",
        "\n",
        "# plot heatmap\n",
        "m.add_child(plugins.HeatMap(stationArr, radius=15))\n",
        "m \n",
        "\n",
        "m.add_child(folium.LayerControl())\n",
        "m.save('heatmap.html')"
      ],
      "execution_count": null,
      "outputs": []
    },
    {
      "cell_type": "code",
      "metadata": {
        "id": "gIAlqk9VoRBZ",
        "colab_type": "code",
        "colab": {}
      },
      "source": [
        "m1 = folium.Map(location=[41,29],\n",
        "tiles=\"cartodbpositron\",\n",
        "width=\"%100\",\n",
        "height=\"%100\",\n",
        "legend_name='Trafik Duyurular',\n",
        "zoom_start=10)\n",
        "\n",
        "cluster = plugins.MarkerCluster(locations=locations,                     \n",
        "               popups=df_tkm[\"ANNOUNCE_TYPE\"].tolist(), encoding=\"UTF-8\")  \n",
        "m1.add_child(cluster)\n",
        "m1\n",
        "m1.add_child(folium.LayerControl())\n",
        "m1.save(outfile='duyurular.html')"
      ],
      "execution_count": null,
      "outputs": []
    }
  ]
}